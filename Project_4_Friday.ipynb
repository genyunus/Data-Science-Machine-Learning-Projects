{
 "cells": [
  {
   "cell_type": "markdown",
   "metadata": {},
   "source": [
    "<img src=\"http://imgur.com/1ZcRyrc.png\" style=\"float: left; margin: 15px; height: 80px\">\n",
    "\n",
    "# Project 4: Classification with Yelp, SGD, OOP"
   ]
  },
  {
   "cell_type": "markdown",
   "metadata": {},
   "source": [
    "## Yelp\n",
    "\n",
    "---\n",
    "\n",
    "In this project you will be investigating a small version of the [Yelp challenge dataset](https://www.yelp.com/dataset_challenge). You'll practice using classification algorithms, cross-validation, gridsearching – all that good stuff.\n",
    "\n",
    "---\n",
    "\n",
    "### The data\n",
    "\n",
    "There are 5 individual .csv files that have the information, zipped into .7z format like with the SF data last project. The dataset is located in your datasets folder:\n",
    "\n",
    "    DSI-SF-2/datasets/yelp_arizona_data.7z\n",
    "\n",
    "The columns in each are:\n",
    "\n",
    "    businesses_small_parsed.csv\n",
    "        business_id: unique business identifier\n",
    "        name: name of the business\n",
    "        review_count: number of reviews per business\n",
    "        city: city business resides in\n",
    "        stars: average rating\n",
    "        categories: categories the business falls into (can be one or multiple)\n",
    "        latitude\n",
    "        longitude\n",
    "        neighborhoods: neighborhoods business belongs to\n",
    "        variable: \"property\" of the business (a tag)\n",
    "        value: True/False for the property\n",
    "        \n",
    "    reviews_small_nlp_parsed.csv\n",
    "        user_id: unique user identifier\n",
    "        review_id: unique review identifier\n",
    "        votes.cool: how many thought the review was \"cool\"\n",
    "        business_id: unique business id the review is for\n",
    "        votes.funny: how many thought the review was funny\n",
    "        stars: rating given\n",
    "        date: date of review\n",
    "        votes.useful: how many thought the review was useful\n",
    "        ... 100 columns of counts of most common 2 word phrases that appear in reviews in this review\n",
    "        \n",
    "    users_small_parsed.csv\n",
    "        yelping_since: signup date\n",
    "        compliments.plain: # of compliments \"plain\"\n",
    "        review_count: # of reviews:\n",
    "        compliments.cute: total # of compliments \"cute\"\n",
    "        compliments.writer: # of compliments \"writer\"\n",
    "        compliments.note: # of compliments \"note\" (not sure what this is)\n",
    "        compliments.hot: # of compliments \"hot\" (?)\n",
    "        compliments.cool: # of compliments \"cool\"\n",
    "        compliments.profile: # of compliments \"profile\"\n",
    "        average_stars: average rating\n",
    "        compliments.more: # of compliments \"more\"\n",
    "        elite: years considered \"elite\"\n",
    "        name: user's name\n",
    "        user_id: unique user id\n",
    "        votes.cool: # of votes \"cool\"\n",
    "        compliments.list: # of compliments \"list\"\n",
    "        votes.funny: # of compliments \"funny\"\n",
    "        compliments.photos: # of compliments \"photos\"\n",
    "        compliments.funny: # of compliments \"funny\"\n",
    "        votes.useful: # of votes \"useful\"\n",
    "       \n",
    "    checkins_small_parsed.csv\n",
    "        business_id: unique business identifier\n",
    "        variable: day-time identifier of checkins (0-0 is Sunday 0:00 - 1:00am,  for example)\n",
    "        value: # of checkins at that time\n",
    "    \n",
    "    tips_small_nlp_parsed.csv\n",
    "        user_id: unique user identifier\n",
    "        business_id: unique business identifier\n",
    "        likes: likes that the tip has\n",
    "        date: date of tip\n",
    "        ... 100 columns of counts of most common 2 word phrases that appear in tips in this tip\n",
    "\n",
    "The reviews and tips datasets in particular have parsed \"NLP\" columns with counts of 2-word phrases in that review or tip (a \"tip\", it seems, is some kind of smaller review).\n",
    "\n",
    "The user dataset has a lot of columns of counts of different compliments and votes. I'm not sure whether the compliments or votes are _by_ the user or _for_ the user.\n",
    "\n",
    "---\n",
    "\n",
    "If you look at the website, or the full data, you'll see I have removed pieces of the data and cut it down quite a bit. This is to simplify it for this project. Specifically, business are limited to be in these cities:\n",
    "\n",
    "    Phoenix\n",
    "    Surprise\n",
    "    Las Vegas\n",
    "    Waterloo\n",
    "\n",
    "Apparently there is a city called \"Surprise\" in Arizona. \n",
    "\n",
    "Businesses are also restricted to at least be in one of the following categories, because I thought the mix of them was funny:\n",
    "\n",
    "    Airports\n",
    "    Breakfast & Brunch\n",
    "    Bubble Tea\n",
    "    Burgers\n",
    "    Bars\n",
    "    Bakeries\n",
    "    Breweries\n",
    "    Cafes\n",
    "    Candy Stores\n",
    "    Comedy Clubs\n",
    "    Courthouses\n",
    "    Dance Clubs\n",
    "    Fast Food\n",
    "    Museums\n",
    "    Tattoo\n",
    "    Vape Shops\n",
    "    Yoga\n",
    "    \n",
    "---\n",
    "\n",
    "### Project requirements\n",
    "\n",
    "**You will be performing 4 different sections of analysis, like in the last project.**\n",
    "\n",
    "Remember that classification targets are categorical and regression targets are continuous variables."
   ]
  },
  {
   "cell_type": "code",
   "execution_count": 1,
   "metadata": {
    "collapsed": true
   },
   "outputs": [],
   "source": [
    "import matplotlib.pyplot as plt\n",
    "import numpy as np\n",
    "import pandas as pd\n",
    "import seaborn as sns\n",
    "import scipy.stats as stats\n",
    "\n",
    "plt.style.use('fivethirtyeight')\n",
    "\n",
    "from ipywidgets import *\n",
    "from IPython.display import display\n",
    "\n",
    "from sklearn import datasets, linear_model\n",
    "from sklearn.metrics import mean_squared_error, classification\n",
    "\n",
    "from sklearn.preprocessing import StandardScaler, scale, MinMaxScaler\n",
    "from sklearn.linear_model import LinearRegression, Ridge, Lasso, RidgeCV, LassoCV, LogisticRegression\n",
    "from sklearn.model_selection import cross_val_score, KFold, train_test_split, StratifiedKFold\n",
    "from sklearn.ensemble import GradientBoostingRegressor, GradientBoostingClassifier, RandomForestClassifier, RandomForestRegressor\n",
    "\n",
    "from xgboost import XGBClassifier\n",
    "from sklearn.model_selection import train_test_split\n",
    "from sklearn.metrics import accuracy_score\n",
    "\n",
    "%matplotlib inline\n",
    "%config InlineBackend.figure_format = 'retina'"
   ]
  },
  {
   "cell_type": "markdown",
   "metadata": {},
   "source": [
    "<img src=\"http://imgur.com/l5NasQj.png\" style=\"float: left; margin: 25px 15px 0px 0px; height: 25px\">\n",
    "\n",
    "## 1. Constructing a \"profile\" for Las Vegas\n",
    "\n",
    "---\n",
    "\n",
    "Yelp is interested in building out what they are calling \"profiles\" for cities. They want you to start with just Las Vegas to see what a prototype of this would look like. Essentially, they want to know what makes Las Vegas distinct from the other four.\n",
    "\n",
    "Use the data you have to predict Las Vegas from the other variables you have. You should not be predicting the city from any kind of location data or other data perfectly associated with that city (or another city).\n",
    "\n",
    "You may use any classification algorithm you deem appropriate, or even multiple models. You should:\n",
    "\n",
    "1. Build at least one model predicting Las Vegas vs. the other cities.\n",
    "- Validate your model(s).\n",
    "- Interpret and visualize, in some way, the results.\n",
    "- Write up a \"profile\" for Las Vegas. This should be a writeup converting your findings from the model(s) into a human-readable description of the city."
   ]
  },
  {
   "cell_type": "code",
   "execution_count": 2,
   "metadata": {
    "collapsed": false
   },
   "outputs": [],
   "source": [
    "business = pd.read_csv('~/Desktop/DSI-SF-5/datasets/yelp_arizona_data/businesses_small_parsed.csv')\n",
    "checkins = pd.read_csv('~/Desktop/DSI-SF-5/datasets/yelp_arizona_data/checkins_small_parsed.csv')\n",
    "reviews = pd.read_csv('~/Desktop/DSI-SF-5/datasets/yelp_arizona_data/reviews_small_nlp_parsed.csv')\n",
    "tips = pd.read_csv('~/Desktop/DSI-SF-5/datasets/yelp_arizona_data/tips_small_nlp_parsed.csv')\n",
    "users = pd.read_csv('~/Desktop/DSI-SF-5/datasets/yelp_arizona_data/users_small_parsed.csv')"
   ]
  },
  {
   "cell_type": "code",
   "execution_count": 3,
   "metadata": {
    "collapsed": false
   },
   "outputs": [
    {
     "name": "stdout",
     "output_type": "stream",
     "text": [
      "(152832, 11)\n",
      "Index([u'business_id', u'name', u'review_count', u'city', u'stars',\n",
      "       u'categories', u'latitude', u'longitude', u'neighborhoods', u'variable',\n",
      "       u'value'],\n",
      "      dtype='object')\n"
     ]
    },
    {
     "data": {
      "text/html": [
       "<div>\n",
       "<table border=\"1\" class=\"dataframe\">\n",
       "  <thead>\n",
       "    <tr style=\"text-align: right;\">\n",
       "      <th></th>\n",
       "      <th>business_id</th>\n",
       "      <th>name</th>\n",
       "      <th>review_count</th>\n",
       "      <th>city</th>\n",
       "      <th>stars</th>\n",
       "      <th>categories</th>\n",
       "      <th>latitude</th>\n",
       "      <th>longitude</th>\n",
       "      <th>neighborhoods</th>\n",
       "      <th>variable</th>\n",
       "      <th>value</th>\n",
       "    </tr>\n",
       "  </thead>\n",
       "  <tbody>\n",
       "    <tr>\n",
       "      <th>0</th>\n",
       "      <td>EmzaQR5hQlF0WIl24NxAZA</td>\n",
       "      <td>Sky Lounge</td>\n",
       "      <td>25</td>\n",
       "      <td>Phoenix</td>\n",
       "      <td>2.5</td>\n",
       "      <td>['American (New)', 'Nightlife', 'Dance Clubs',...</td>\n",
       "      <td>33.448399</td>\n",
       "      <td>-112.071702</td>\n",
       "      <td>[]</td>\n",
       "      <td>attributes.Ambience.divey</td>\n",
       "      <td>False</td>\n",
       "    </tr>\n",
       "    <tr>\n",
       "      <th>1</th>\n",
       "      <td>SiwN7f0N4bs4ZtPc4yPgiA</td>\n",
       "      <td>Palazzo</td>\n",
       "      <td>19</td>\n",
       "      <td>Phoenix</td>\n",
       "      <td>3.0</td>\n",
       "      <td>['Bars', 'Nightlife', 'Dance Clubs']</td>\n",
       "      <td>33.455885</td>\n",
       "      <td>-112.074177</td>\n",
       "      <td>[]</td>\n",
       "      <td>attributes.Ambience.divey</td>\n",
       "      <td>False</td>\n",
       "    </tr>\n",
       "    <tr>\n",
       "      <th>2</th>\n",
       "      <td>e5kc0CQ4R-PCCDgb274gSg</td>\n",
       "      <td>Canyon Cafe</td>\n",
       "      <td>238</td>\n",
       "      <td>Phoenix</td>\n",
       "      <td>3.5</td>\n",
       "      <td>['Cafes', 'Mexican', 'Tex-Mex', 'Restaurants']</td>\n",
       "      <td>33.452154</td>\n",
       "      <td>-112.068620</td>\n",
       "      <td>[]</td>\n",
       "      <td>attributes.Ambience.divey</td>\n",
       "      <td>False</td>\n",
       "    </tr>\n",
       "    <tr>\n",
       "      <th>3</th>\n",
       "      <td>neGAQFkBNI8-rpPBLBzNkw</td>\n",
       "      <td>Taco Bell</td>\n",
       "      <td>10</td>\n",
       "      <td>Phoenix</td>\n",
       "      <td>4.0</td>\n",
       "      <td>['Fast Food', 'Mexican', 'Tex-Mex', 'Restauran...</td>\n",
       "      <td>33.465440</td>\n",
       "      <td>-112.069090</td>\n",
       "      <td>[]</td>\n",
       "      <td>attributes.Ambience.divey</td>\n",
       "      <td>False</td>\n",
       "    </tr>\n",
       "    <tr>\n",
       "      <th>4</th>\n",
       "      <td>45puCRQ6Vh_IIAy7kkfFDQ</td>\n",
       "      <td>Majerle's Sports Grill</td>\n",
       "      <td>205</td>\n",
       "      <td>Phoenix</td>\n",
       "      <td>3.5</td>\n",
       "      <td>['Bars', 'Restaurants', 'American (Traditional...</td>\n",
       "      <td>33.448465</td>\n",
       "      <td>-112.071257</td>\n",
       "      <td>[]</td>\n",
       "      <td>attributes.Ambience.divey</td>\n",
       "      <td>False</td>\n",
       "    </tr>\n",
       "  </tbody>\n",
       "</table>\n",
       "</div>"
      ],
      "text/plain": [
       "              business_id                    name  review_count     city  \\\n",
       "0  EmzaQR5hQlF0WIl24NxAZA              Sky Lounge            25  Phoenix   \n",
       "1  SiwN7f0N4bs4ZtPc4yPgiA                 Palazzo            19  Phoenix   \n",
       "2  e5kc0CQ4R-PCCDgb274gSg             Canyon Cafe           238  Phoenix   \n",
       "3  neGAQFkBNI8-rpPBLBzNkw               Taco Bell            10  Phoenix   \n",
       "4  45puCRQ6Vh_IIAy7kkfFDQ  Majerle's Sports Grill           205  Phoenix   \n",
       "\n",
       "   stars                                         categories   latitude  \\\n",
       "0    2.5  ['American (New)', 'Nightlife', 'Dance Clubs',...  33.448399   \n",
       "1    3.0               ['Bars', 'Nightlife', 'Dance Clubs']  33.455885   \n",
       "2    3.5     ['Cafes', 'Mexican', 'Tex-Mex', 'Restaurants']  33.452154   \n",
       "3    4.0  ['Fast Food', 'Mexican', 'Tex-Mex', 'Restauran...  33.465440   \n",
       "4    3.5  ['Bars', 'Restaurants', 'American (Traditional...  33.448465   \n",
       "\n",
       "    longitude neighborhoods                   variable  value  \n",
       "0 -112.071702            []  attributes.Ambience.divey  False  \n",
       "1 -112.074177            []  attributes.Ambience.divey  False  \n",
       "2 -112.068620            []  attributes.Ambience.divey  False  \n",
       "3 -112.069090            []  attributes.Ambience.divey  False  \n",
       "4 -112.071257            []  attributes.Ambience.divey  False  "
      ]
     },
     "execution_count": 3,
     "metadata": {},
     "output_type": "execute_result"
    }
   ],
   "source": [
    "print business.shape\n",
    "print business.columns\n",
    "\n",
    "business.head()"
   ]
  },
  {
   "cell_type": "code",
   "execution_count": 4,
   "metadata": {
    "collapsed": false
   },
   "outputs": [],
   "source": [
    "categories = business.categories.apply(eval)\n",
    "business_copy = business.copy()\n",
    "business_copy['categories'] = categories\n",
    "#unique_categories = set(list(itertools.chain(*categories.tolist())))"
   ]
  },
  {
   "cell_type": "code",
   "execution_count": 5,
   "metadata": {
    "collapsed": false
   },
   "outputs": [],
   "source": [
    "#simplified list of categories\n",
    "given_cats = ['Airports', 'Breakfast & Brunch', 'Bubble Tea', 'Burgers', 'Bars', 'Bakeries', 'Breweries',\n",
    "             'Cafes', 'Candy Stores', 'Comedy Clubs', 'Courthouses', 'Dance Clubs', 'Fast Food', \n",
    "             'Museums', 'Tattoo', 'Vape Shops', 'Yoga']\n",
    "\n",
    "    \n",
    "for cat in given_cats:\n",
    "    business_copy[cat] = business_copy['categories'].apply(lambda x: int(cat in x))\n"
   ]
  },
  {
   "cell_type": "code",
   "execution_count": 6,
   "metadata": {
    "collapsed": false,
    "scrolled": true
   },
   "outputs": [],
   "source": [
    "#initial function to convert booleans, but much easier done in step above\n",
    "\n",
    "# def convert_col(business_copy):\n",
    "#     for col in business_copy:\n",
    "#         if col in business_copy.select_dtypes(include = ['bool']):\n",
    "#             business_copy[col] = business_copy[col].apply(lambda x: 1 if x == True else 0)\n",
    "#     return business_copy\n",
    "\n",
    "# convert_col(business_copy)\n",
    "# business_copy.head()"
   ]
  },
  {
   "cell_type": "code",
   "execution_count": 7,
   "metadata": {
    "collapsed": false
   },
   "outputs": [],
   "source": [
    "#businesses_by_city_count = business_copy.groupby(by = 'city')['business_id'].count()"
   ]
  },
  {
   "cell_type": "code",
   "execution_count": 8,
   "metadata": {
    "collapsed": false
   },
   "outputs": [],
   "source": [
    "#businesses_by_city_unique = business_copy.groupby(by = 'city')['business_id'].nunique()"
   ]
  },
  {
   "cell_type": "code",
   "execution_count": 9,
   "metadata": {
    "collapsed": false
   },
   "outputs": [],
   "source": [
    "#drop irrelevant columns\n"
   ]
  },
  {
   "cell_type": "code",
   "execution_count": 10,
   "metadata": {
    "collapsed": false
   },
   "outputs": [],
   "source": [
    "#convert column 'variables' to wide format, value is 'value column, use business_id as index to get unique\n",
    "X = business_copy.drop(['name', 'latitude', 'longitude', 'neighborhoods', 'categories'], axis = 1)\n",
    "y = business_copy.city\n",
    "\n",
    "X_wide = X.pivot(index='business_id', columns='variable', values = 'value')\n",
    "X_wide = pd.DataFrame(X_wide)"
   ]
  },
  {
   "cell_type": "code",
   "execution_count": 11,
   "metadata": {
    "collapsed": false
   },
   "outputs": [
    {
     "data": {
      "text/html": [
       "<div>\n",
       "<table border=\"1\" class=\"dataframe\">\n",
       "  <thead>\n",
       "    <tr style=\"text-align: right;\">\n",
       "      <th></th>\n",
       "      <th>attributes.Accepts Credit Cards_False</th>\n",
       "      <th>attributes.Accepts Credit Cards_True</th>\n",
       "      <th>attributes.Accepts Insurance_False</th>\n",
       "      <th>attributes.Ages Allowed_18plus</th>\n",
       "      <th>attributes.Ages Allowed_21plus</th>\n",
       "      <th>attributes.Ages Allowed_allages</th>\n",
       "      <th>attributes.Alcohol_beer_and_wine</th>\n",
       "      <th>attributes.Alcohol_full_bar</th>\n",
       "      <th>attributes.Alcohol_none</th>\n",
       "      <th>attributes.Ambience.casual_False</th>\n",
       "      <th>...</th>\n",
       "      <th>hours.Wednesday.open_19:30</th>\n",
       "      <th>hours.Wednesday.open_20:00</th>\n",
       "      <th>hours.Wednesday.open_20:30</th>\n",
       "      <th>hours.Wednesday.open_21:00</th>\n",
       "      <th>hours.Wednesday.open_21:30</th>\n",
       "      <th>hours.Wednesday.open_22:00</th>\n",
       "      <th>hours.Wednesday.open_22:30</th>\n",
       "      <th>hours.Wednesday.open_23:00</th>\n",
       "      <th>open_False</th>\n",
       "      <th>open_True</th>\n",
       "    </tr>\n",
       "    <tr>\n",
       "      <th>business_id</th>\n",
       "      <th></th>\n",
       "      <th></th>\n",
       "      <th></th>\n",
       "      <th></th>\n",
       "      <th></th>\n",
       "      <th></th>\n",
       "      <th></th>\n",
       "      <th></th>\n",
       "      <th></th>\n",
       "      <th></th>\n",
       "      <th></th>\n",
       "      <th></th>\n",
       "      <th></th>\n",
       "      <th></th>\n",
       "      <th></th>\n",
       "      <th></th>\n",
       "      <th></th>\n",
       "      <th></th>\n",
       "      <th></th>\n",
       "      <th></th>\n",
       "      <th></th>\n",
       "    </tr>\n",
       "  </thead>\n",
       "  <tbody>\n",
       "    <tr>\n",
       "      <th>--jFTZmywe7StuZ2hEjxyA</th>\n",
       "      <td>0</td>\n",
       "      <td>1</td>\n",
       "      <td>0</td>\n",
       "      <td>0</td>\n",
       "      <td>0</td>\n",
       "      <td>0</td>\n",
       "      <td>0</td>\n",
       "      <td>0</td>\n",
       "      <td>1</td>\n",
       "      <td>0</td>\n",
       "      <td>...</td>\n",
       "      <td>0</td>\n",
       "      <td>0</td>\n",
       "      <td>0</td>\n",
       "      <td>0</td>\n",
       "      <td>0</td>\n",
       "      <td>0</td>\n",
       "      <td>0</td>\n",
       "      <td>0</td>\n",
       "      <td>0</td>\n",
       "      <td>1</td>\n",
       "    </tr>\n",
       "    <tr>\n",
       "      <th>-0HGqwlfw3I8nkJyMHxAsQ</th>\n",
       "      <td>0</td>\n",
       "      <td>1</td>\n",
       "      <td>0</td>\n",
       "      <td>0</td>\n",
       "      <td>0</td>\n",
       "      <td>0</td>\n",
       "      <td>0</td>\n",
       "      <td>0</td>\n",
       "      <td>1</td>\n",
       "      <td>0</td>\n",
       "      <td>...</td>\n",
       "      <td>0</td>\n",
       "      <td>0</td>\n",
       "      <td>0</td>\n",
       "      <td>0</td>\n",
       "      <td>0</td>\n",
       "      <td>0</td>\n",
       "      <td>0</td>\n",
       "      <td>0</td>\n",
       "      <td>0</td>\n",
       "      <td>1</td>\n",
       "    </tr>\n",
       "    <tr>\n",
       "      <th>-0VK5Z1BfUHUYq4PoBYNLw</th>\n",
       "      <td>0</td>\n",
       "      <td>1</td>\n",
       "      <td>0</td>\n",
       "      <td>0</td>\n",
       "      <td>0</td>\n",
       "      <td>0</td>\n",
       "      <td>0</td>\n",
       "      <td>1</td>\n",
       "      <td>0</td>\n",
       "      <td>0</td>\n",
       "      <td>...</td>\n",
       "      <td>0</td>\n",
       "      <td>0</td>\n",
       "      <td>0</td>\n",
       "      <td>0</td>\n",
       "      <td>0</td>\n",
       "      <td>0</td>\n",
       "      <td>0</td>\n",
       "      <td>0</td>\n",
       "      <td>0</td>\n",
       "      <td>1</td>\n",
       "    </tr>\n",
       "    <tr>\n",
       "      <th>-0bUDim5OGuv8R0Qqq6J4A</th>\n",
       "      <td>0</td>\n",
       "      <td>1</td>\n",
       "      <td>0</td>\n",
       "      <td>0</td>\n",
       "      <td>0</td>\n",
       "      <td>0</td>\n",
       "      <td>0</td>\n",
       "      <td>0</td>\n",
       "      <td>0</td>\n",
       "      <td>0</td>\n",
       "      <td>...</td>\n",
       "      <td>0</td>\n",
       "      <td>0</td>\n",
       "      <td>0</td>\n",
       "      <td>0</td>\n",
       "      <td>0</td>\n",
       "      <td>0</td>\n",
       "      <td>0</td>\n",
       "      <td>0</td>\n",
       "      <td>1</td>\n",
       "      <td>0</td>\n",
       "    </tr>\n",
       "    <tr>\n",
       "      <th>-1bOb2izeJBZjHC7NWxiPA</th>\n",
       "      <td>0</td>\n",
       "      <td>1</td>\n",
       "      <td>0</td>\n",
       "      <td>0</td>\n",
       "      <td>0</td>\n",
       "      <td>0</td>\n",
       "      <td>0</td>\n",
       "      <td>0</td>\n",
       "      <td>1</td>\n",
       "      <td>0</td>\n",
       "      <td>...</td>\n",
       "      <td>0</td>\n",
       "      <td>0</td>\n",
       "      <td>0</td>\n",
       "      <td>0</td>\n",
       "      <td>0</td>\n",
       "      <td>0</td>\n",
       "      <td>0</td>\n",
       "      <td>0</td>\n",
       "      <td>0</td>\n",
       "      <td>1</td>\n",
       "    </tr>\n",
       "  </tbody>\n",
       "</table>\n",
       "<p>5 rows × 753 columns</p>\n",
       "</div>"
      ],
      "text/plain": [
       "                        attributes.Accepts Credit Cards_False  \\\n",
       "business_id                                                     \n",
       "--jFTZmywe7StuZ2hEjxyA                                      0   \n",
       "-0HGqwlfw3I8nkJyMHxAsQ                                      0   \n",
       "-0VK5Z1BfUHUYq4PoBYNLw                                      0   \n",
       "-0bUDim5OGuv8R0Qqq6J4A                                      0   \n",
       "-1bOb2izeJBZjHC7NWxiPA                                      0   \n",
       "\n",
       "                        attributes.Accepts Credit Cards_True  \\\n",
       "business_id                                                    \n",
       "--jFTZmywe7StuZ2hEjxyA                                     1   \n",
       "-0HGqwlfw3I8nkJyMHxAsQ                                     1   \n",
       "-0VK5Z1BfUHUYq4PoBYNLw                                     1   \n",
       "-0bUDim5OGuv8R0Qqq6J4A                                     1   \n",
       "-1bOb2izeJBZjHC7NWxiPA                                     1   \n",
       "\n",
       "                        attributes.Accepts Insurance_False  \\\n",
       "business_id                                                  \n",
       "--jFTZmywe7StuZ2hEjxyA                                   0   \n",
       "-0HGqwlfw3I8nkJyMHxAsQ                                   0   \n",
       "-0VK5Z1BfUHUYq4PoBYNLw                                   0   \n",
       "-0bUDim5OGuv8R0Qqq6J4A                                   0   \n",
       "-1bOb2izeJBZjHC7NWxiPA                                   0   \n",
       "\n",
       "                        attributes.Ages Allowed_18plus  \\\n",
       "business_id                                              \n",
       "--jFTZmywe7StuZ2hEjxyA                               0   \n",
       "-0HGqwlfw3I8nkJyMHxAsQ                               0   \n",
       "-0VK5Z1BfUHUYq4PoBYNLw                               0   \n",
       "-0bUDim5OGuv8R0Qqq6J4A                               0   \n",
       "-1bOb2izeJBZjHC7NWxiPA                               0   \n",
       "\n",
       "                        attributes.Ages Allowed_21plus  \\\n",
       "business_id                                              \n",
       "--jFTZmywe7StuZ2hEjxyA                               0   \n",
       "-0HGqwlfw3I8nkJyMHxAsQ                               0   \n",
       "-0VK5Z1BfUHUYq4PoBYNLw                               0   \n",
       "-0bUDim5OGuv8R0Qqq6J4A                               0   \n",
       "-1bOb2izeJBZjHC7NWxiPA                               0   \n",
       "\n",
       "                        attributes.Ages Allowed_allages  \\\n",
       "business_id                                               \n",
       "--jFTZmywe7StuZ2hEjxyA                                0   \n",
       "-0HGqwlfw3I8nkJyMHxAsQ                                0   \n",
       "-0VK5Z1BfUHUYq4PoBYNLw                                0   \n",
       "-0bUDim5OGuv8R0Qqq6J4A                                0   \n",
       "-1bOb2izeJBZjHC7NWxiPA                                0   \n",
       "\n",
       "                        attributes.Alcohol_beer_and_wine  \\\n",
       "business_id                                                \n",
       "--jFTZmywe7StuZ2hEjxyA                                 0   \n",
       "-0HGqwlfw3I8nkJyMHxAsQ                                 0   \n",
       "-0VK5Z1BfUHUYq4PoBYNLw                                 0   \n",
       "-0bUDim5OGuv8R0Qqq6J4A                                 0   \n",
       "-1bOb2izeJBZjHC7NWxiPA                                 0   \n",
       "\n",
       "                        attributes.Alcohol_full_bar  attributes.Alcohol_none  \\\n",
       "business_id                                                                    \n",
       "--jFTZmywe7StuZ2hEjxyA                            0                        1   \n",
       "-0HGqwlfw3I8nkJyMHxAsQ                            0                        1   \n",
       "-0VK5Z1BfUHUYq4PoBYNLw                            1                        0   \n",
       "-0bUDim5OGuv8R0Qqq6J4A                            0                        0   \n",
       "-1bOb2izeJBZjHC7NWxiPA                            0                        1   \n",
       "\n",
       "                        attributes.Ambience.casual_False    ...      \\\n",
       "business_id                                                 ...       \n",
       "--jFTZmywe7StuZ2hEjxyA                                 0    ...       \n",
       "-0HGqwlfw3I8nkJyMHxAsQ                                 0    ...       \n",
       "-0VK5Z1BfUHUYq4PoBYNLw                                 0    ...       \n",
       "-0bUDim5OGuv8R0Qqq6J4A                                 0    ...       \n",
       "-1bOb2izeJBZjHC7NWxiPA                                 0    ...       \n",
       "\n",
       "                        hours.Wednesday.open_19:30  \\\n",
       "business_id                                          \n",
       "--jFTZmywe7StuZ2hEjxyA                           0   \n",
       "-0HGqwlfw3I8nkJyMHxAsQ                           0   \n",
       "-0VK5Z1BfUHUYq4PoBYNLw                           0   \n",
       "-0bUDim5OGuv8R0Qqq6J4A                           0   \n",
       "-1bOb2izeJBZjHC7NWxiPA                           0   \n",
       "\n",
       "                        hours.Wednesday.open_20:00  \\\n",
       "business_id                                          \n",
       "--jFTZmywe7StuZ2hEjxyA                           0   \n",
       "-0HGqwlfw3I8nkJyMHxAsQ                           0   \n",
       "-0VK5Z1BfUHUYq4PoBYNLw                           0   \n",
       "-0bUDim5OGuv8R0Qqq6J4A                           0   \n",
       "-1bOb2izeJBZjHC7NWxiPA                           0   \n",
       "\n",
       "                        hours.Wednesday.open_20:30  \\\n",
       "business_id                                          \n",
       "--jFTZmywe7StuZ2hEjxyA                           0   \n",
       "-0HGqwlfw3I8nkJyMHxAsQ                           0   \n",
       "-0VK5Z1BfUHUYq4PoBYNLw                           0   \n",
       "-0bUDim5OGuv8R0Qqq6J4A                           0   \n",
       "-1bOb2izeJBZjHC7NWxiPA                           0   \n",
       "\n",
       "                        hours.Wednesday.open_21:00  \\\n",
       "business_id                                          \n",
       "--jFTZmywe7StuZ2hEjxyA                           0   \n",
       "-0HGqwlfw3I8nkJyMHxAsQ                           0   \n",
       "-0VK5Z1BfUHUYq4PoBYNLw                           0   \n",
       "-0bUDim5OGuv8R0Qqq6J4A                           0   \n",
       "-1bOb2izeJBZjHC7NWxiPA                           0   \n",
       "\n",
       "                        hours.Wednesday.open_21:30  \\\n",
       "business_id                                          \n",
       "--jFTZmywe7StuZ2hEjxyA                           0   \n",
       "-0HGqwlfw3I8nkJyMHxAsQ                           0   \n",
       "-0VK5Z1BfUHUYq4PoBYNLw                           0   \n",
       "-0bUDim5OGuv8R0Qqq6J4A                           0   \n",
       "-1bOb2izeJBZjHC7NWxiPA                           0   \n",
       "\n",
       "                        hours.Wednesday.open_22:00  \\\n",
       "business_id                                          \n",
       "--jFTZmywe7StuZ2hEjxyA                           0   \n",
       "-0HGqwlfw3I8nkJyMHxAsQ                           0   \n",
       "-0VK5Z1BfUHUYq4PoBYNLw                           0   \n",
       "-0bUDim5OGuv8R0Qqq6J4A                           0   \n",
       "-1bOb2izeJBZjHC7NWxiPA                           0   \n",
       "\n",
       "                        hours.Wednesday.open_22:30  \\\n",
       "business_id                                          \n",
       "--jFTZmywe7StuZ2hEjxyA                           0   \n",
       "-0HGqwlfw3I8nkJyMHxAsQ                           0   \n",
       "-0VK5Z1BfUHUYq4PoBYNLw                           0   \n",
       "-0bUDim5OGuv8R0Qqq6J4A                           0   \n",
       "-1bOb2izeJBZjHC7NWxiPA                           0   \n",
       "\n",
       "                        hours.Wednesday.open_23:00  open_False  open_True  \n",
       "business_id                                                                \n",
       "--jFTZmywe7StuZ2hEjxyA                           0           0          1  \n",
       "-0HGqwlfw3I8nkJyMHxAsQ                           0           0          1  \n",
       "-0VK5Z1BfUHUYq4PoBYNLw                           0           0          1  \n",
       "-0bUDim5OGuv8R0Qqq6J4A                           0           1          0  \n",
       "-1bOb2izeJBZjHC7NWxiPA                           0           0          1  \n",
       "\n",
       "[5 rows x 753 columns]"
      ]
     },
     "execution_count": 11,
     "metadata": {},
     "output_type": "execute_result"
    }
   ],
   "source": [
    "#create dummies to get numeric values in columns\n",
    "X_wide_dummies = pd.get_dummies(X_wide)\n",
    "X_wide_dummies.head()"
   ]
  },
  {
   "cell_type": "code",
   "execution_count": 12,
   "metadata": {
    "collapsed": false,
    "scrolled": true
   },
   "outputs": [],
   "source": [
    "#now that we have unique values for business_ids, make business_id a normal columns & reset_index\n",
    "X_wide_dummies.reset_index(inplace = True)"
   ]
  },
  {
   "cell_type": "code",
   "execution_count": 13,
   "metadata": {
    "collapsed": false
   },
   "outputs": [],
   "source": [
    "X_to_merge = X.drop(['variable', 'value'], axis = 1)"
   ]
  },
  {
   "cell_type": "code",
   "execution_count": 14,
   "metadata": {
    "collapsed": false
   },
   "outputs": [],
   "source": [
    "X_to_merge.drop_duplicates(inplace = True)"
   ]
  },
  {
   "cell_type": "code",
   "execution_count": 15,
   "metadata": {
    "collapsed": false
   },
   "outputs": [],
   "source": [
    "#merge 2 together to create cleaned df of unique business_ids\n",
    "cleaned_business_att = X_to_merge.merge(X_wide_dummies, on = 'business_id')"
   ]
  },
  {
   "cell_type": "code",
   "execution_count": 16,
   "metadata": {
    "collapsed": false
   },
   "outputs": [],
   "source": [
    "cleaned_business_att.head()\n",
    "cleaned_business_att['city'] = cleaned_business_att['city'].apply(lambda x: 1 if x == 'Las Vegas' else 0)"
   ]
  },
  {
   "cell_type": "markdown",
   "metadata": {},
   "source": [
    "## Modeling"
   ]
  },
  {
   "cell_type": "markdown",
   "metadata": {},
   "source": [
    "### Creating the Variables for Models"
   ]
  },
  {
   "cell_type": "code",
   "execution_count": 17,
   "metadata": {
    "collapsed": false
   },
   "outputs": [],
   "source": [
    "#create independent & dependent variables\n",
    "y = cleaned_business_att.city\n",
    "cleaned_business_att = cleaned_business_att.drop(['city', 'business_id'], axis = 1)\n",
    "X = cleaned_business_att"
   ]
  },
  {
   "cell_type": "code",
   "execution_count": 18,
   "metadata": {
    "collapsed": false
   },
   "outputs": [],
   "source": [
    "#normalize X\n",
    "mms = MinMaxScaler()\n",
    "X = mms.fit_transform(X)"
   ]
  },
  {
   "cell_type": "markdown",
   "metadata": {},
   "source": [
    "### Logistic Regression"
   ]
  },
  {
   "cell_type": "code",
   "execution_count": 19,
   "metadata": {
    "collapsed": false
   },
   "outputs": [
    {
     "data": {
      "text/plain": [
       "LogisticRegression(C=1.0, class_weight=None, dual=False, fit_intercept=True,\n",
       "          intercept_scaling=1, max_iter=100, multi_class='ovr', n_jobs=1,\n",
       "          penalty='l1', random_state=None, solver='liblinear', tol=0.0001,\n",
       "          verbose=0, warm_start=False)"
      ]
     },
     "execution_count": 19,
     "metadata": {},
     "output_type": "execute_result"
    }
   ],
   "source": [
    "#sns.pairplot(y)\n",
    "Xl_train, Xl_test, yl_train, yl_test = train_test_split(X, y, test_size = .33, random_state = 3)\n",
    "\n",
    "lasso = LogisticRegression(penalty=\"l1\")\n",
    "\n",
    "lasso.fit(Xl_train,yl_train)"
   ]
  },
  {
   "cell_type": "code",
   "execution_count": 20,
   "metadata": {
    "collapsed": false
   },
   "outputs": [
    {
     "name": "stdout",
     "output_type": "stream",
     "text": [
      "0.706011730205\n",
      "0.711740559975\n"
     ]
    }
   ],
   "source": [
    "\n",
    "\n",
    "print lasso.score(Xl_test,yl_test)\n",
    "\n",
    "print cross_val_score(lasso,X,y,cv=5).mean()"
   ]
  },
  {
   "cell_type": "markdown",
   "metadata": {},
   "source": [
    "### XGBoots"
   ]
  },
  {
   "cell_type": "code",
   "execution_count": 21,
   "metadata": {
    "collapsed": true
   },
   "outputs": [],
   "source": [
    "from xgboost import XGBClassifier\n",
    "from sklearn.model_selection import GridSearchCV\n",
    "from sklearn.model_selection import StratifiedKFold"
   ]
  },
  {
   "cell_type": "code",
   "execution_count": 22,
   "metadata": {
    "collapsed": false
   },
   "outputs": [
    {
     "name": "stdout",
     "output_type": "stream",
     "text": [
      "0.732297687861 {'learning_rate': 0.2}\n"
     ]
    },
    {
     "data": {
      "text/html": [
       "<div>\n",
       "<table border=\"1\" class=\"dataframe\">\n",
       "  <thead>\n",
       "    <tr style=\"text-align: right;\">\n",
       "      <th>Predicted</th>\n",
       "      <th>0</th>\n",
       "      <th>1</th>\n",
       "      <th>All</th>\n",
       "    </tr>\n",
       "    <tr>\n",
       "      <th>Actual</th>\n",
       "      <th></th>\n",
       "      <th></th>\n",
       "      <th></th>\n",
       "    </tr>\n",
       "  </thead>\n",
       "  <tbody>\n",
       "    <tr>\n",
       "      <th>0</th>\n",
       "      <td>244</td>\n",
       "      <td>275</td>\n",
       "      <td>519</td>\n",
       "    </tr>\n",
       "    <tr>\n",
       "      <th>1</th>\n",
       "      <td>116</td>\n",
       "      <td>729</td>\n",
       "      <td>845</td>\n",
       "    </tr>\n",
       "    <tr>\n",
       "      <th>All</th>\n",
       "      <td>360</td>\n",
       "      <td>1004</td>\n",
       "      <td>1364</td>\n",
       "    </tr>\n",
       "  </tbody>\n",
       "</table>\n",
       "</div>"
      ],
      "text/plain": [
       "Predicted    0     1   All\n",
       "Actual                    \n",
       "0          244   275   519\n",
       "1          116   729   845\n",
       "All        360  1004  1364"
      ]
     },
     "execution_count": 22,
     "metadata": {},
     "output_type": "execute_result"
    }
   ],
   "source": [
    "XGB = XGBClassifier()\n",
    "XGB.fit(Xl_train,yl_train)\n",
    "\n",
    "learning_rate = [ 0.1, 0.2,0.3,1.]\n",
    "param_grid = dict(learning_rate=learning_rate)\n",
    "kfold = StratifiedKFold(n_splits=5, shuffle=True, random_state=7)\n",
    "grid_search = GridSearchCV(XGB, param_grid, scoring=\"accuracy\", n_jobs= 3, cv=kfold)\n",
    "grid_result = grid_search.fit(Xl_train, yl_train)\n",
    "yl_hat = grid_result.predict(Xl_test)\n",
    "print grid_result.best_score_, grid_result.best_params_\n",
    "\n",
    "pd.crosstab(yl_test,yl_hat, rownames=['Actual'], colnames=['Predicted'], margins=True)"
   ]
  },
  {
   "cell_type": "code",
   "execution_count": null,
   "metadata": {
    "collapsed": false
   },
   "outputs": [],
   "source": []
  },
  {
   "cell_type": "markdown",
   "metadata": {},
   "source": [
    "### RandomForestClassifier"
   ]
  },
  {
   "cell_type": "code",
   "execution_count": 24,
   "metadata": {
    "collapsed": false
   },
   "outputs": [
    {
     "name": "stdout",
     "output_type": "stream",
     "text": [
      "0.651026392962\n"
     ]
    },
    {
     "data": {
      "text/plain": [
       "0.65850458643072329"
      ]
     },
     "execution_count": 24,
     "metadata": {},
     "output_type": "execute_result"
    }
   ],
   "source": [
    "rf = RandomForestClassifier(n_estimators=10, max_depth=5, min_samples_split=2, random_state=3)\n",
    "X_train, X_test, y_train, y_test = train_test_split(X, y, test_size = .33, random_state = 3)\n",
    "rf.fit(X_train,y_train)\n",
    "print rf.score(X_test,y_test)\n",
    "scores = cross_val_score(rf, X, y, cv = 5).mean()\n",
    "scores"
   ]
  },
  {
   "cell_type": "code",
   "execution_count": 25,
   "metadata": {
    "collapsed": true
   },
   "outputs": [],
   "source": [
    "feature_importance = zip(rf.feature_importances_,cleaned_business_att.columns)"
   ]
  },
  {
   "cell_type": "code",
   "execution_count": 27,
   "metadata": {
    "collapsed": false
   },
   "outputs": [
    {
     "name": "stdout",
     "output_type": "stream",
     "text": [
      "['attributes.Smoking_yes', 'attributes.Parking.garage_True', 'attributes.Outdoor Seating_True', 'hours.Thursday.open_00:00', 'attributes.Smoking_outdoor', 'hours.Thursday.close_02:00', 'review_count', 'attributes.Outdoor Seating_False', 'hours.Saturday.close_02:00', 'hours.Wednesday.open_00:00', 'hours.Friday.close_02:00', 'hours.Saturday.open_07:00', 'hours.Tuesday.open_11:00', 'hours.Wednesday.close_15:00', 'hours.Sunday.close_00:00', 'attributes.Parking.garage_False', 'hours.Sunday.close_02:00', 'hours.Sunday.open_11:00', 'attributes.Music.jukebox_False', 'hours.Sunday.open_00:00']\n"
     ]
    },
    {
     "data": {
      "image/png": "[encoded data removed]",
      "text/plain": [
       "<matplotlib.figure.Figure at 0x113314f50>"
      ]
     },
     "metadata": {
      "image/png": {
       "height": 402,
       "width": 416
      }
     },
     "output_type": "display_data"
    }
   ],
   "source": [
    "# Plot the feature importances of the forest\n",
    "feature_importance = zip(rf.feature_importances_,cleaned_business_att.columns)\n",
    "\n",
    "top_10_predictors = sorted(zip(rf.feature_importances_, cleaned_business_att.columns), reverse=True)[:20]\n",
    "\n",
    "top_10_predictors\n",
    "\n",
    "values = [value for value, predictors in top_10_predictors]\n",
    "predictors = [predictors for value, predictors in top_10_predictors]\n",
    "print predictors\n",
    "\n",
    "# Plot the feature importances of the forest\n",
    "\n",
    "\n",
    "plt.figure()\n",
    "plt.title(\"Feature importances\")\n",
    "plt.bar(range(len(predictors)), values,color=\"r\", align=\"center\");\n",
    "plt.xticks(range(len(predictors)), predictors, rotation=90);\n"
   ]
  },
  {
   "cell_type": "code",
   "execution_count": 28,
   "metadata": {
    "collapsed": false
   },
   "outputs": [
    {
     "data": {
      "text/html": [
       "<div>\n",
       "<table border=\"1\" class=\"dataframe\">\n",
       "  <thead>\n",
       "    <tr style=\"text-align: right;\">\n",
       "      <th></th>\n",
       "      <th>user_id</th>\n",
       "      <th>review_id</th>\n",
       "      <th>votes.cool</th>\n",
       "      <th>business_id</th>\n",
       "      <th>votes.funny</th>\n",
       "      <th>stars</th>\n",
       "      <th>date</th>\n",
       "      <th>votes.useful</th>\n",
       "      <th>10 minutes</th>\n",
       "      <th>15 minutes</th>\n",
       "      <th>...</th>\n",
       "      <th>service great</th>\n",
       "      <th>staff friendly</th>\n",
       "      <th>super friendly</th>\n",
       "      <th>sweet potato</th>\n",
       "      <th>tasted like</th>\n",
       "      <th>time vegas</th>\n",
       "      <th>try place</th>\n",
       "      <th>ve seen</th>\n",
       "      <th>ve tried</th>\n",
       "      <th>wait staff</th>\n",
       "    </tr>\n",
       "  </thead>\n",
       "  <tbody>\n",
       "    <tr>\n",
       "      <th>0</th>\n",
       "      <td>o_LCYay4uo5N4eq3U5pbrQ</td>\n",
       "      <td>biEOCicjWlibF26pNLvhcw</td>\n",
       "      <td>0</td>\n",
       "      <td>EmzaQR5hQlF0WIl24NxAZA</td>\n",
       "      <td>0</td>\n",
       "      <td>3</td>\n",
       "      <td>2007-09-14</td>\n",
       "      <td>1</td>\n",
       "      <td>0</td>\n",
       "      <td>0</td>\n",
       "      <td>...</td>\n",
       "      <td>0</td>\n",
       "      <td>0</td>\n",
       "      <td>0</td>\n",
       "      <td>0</td>\n",
       "      <td>0</td>\n",
       "      <td>0</td>\n",
       "      <td>0</td>\n",
       "      <td>0</td>\n",
       "      <td>0</td>\n",
       "      <td>0</td>\n",
       "    </tr>\n",
       "    <tr>\n",
       "      <th>1</th>\n",
       "      <td>sEWeeq41k4ohBz4jS_iGRw</td>\n",
       "      <td>tOhOHUAS7XJch7a_HW5Csw</td>\n",
       "      <td>3</td>\n",
       "      <td>EmzaQR5hQlF0WIl24NxAZA</td>\n",
       "      <td>12</td>\n",
       "      <td>2</td>\n",
       "      <td>2008-04-21</td>\n",
       "      <td>3</td>\n",
       "      <td>0</td>\n",
       "      <td>0</td>\n",
       "      <td>...</td>\n",
       "      <td>0</td>\n",
       "      <td>0</td>\n",
       "      <td>0</td>\n",
       "      <td>0</td>\n",
       "      <td>0</td>\n",
       "      <td>0</td>\n",
       "      <td>0</td>\n",
       "      <td>0</td>\n",
       "      <td>0</td>\n",
       "      <td>0</td>\n",
       "    </tr>\n",
       "    <tr>\n",
       "      <th>2</th>\n",
       "      <td>1AqEqmmVHgYCuzcMrF4h2g</td>\n",
       "      <td>2aGafu-x7onydGoDgDfeQQ</td>\n",
       "      <td>0</td>\n",
       "      <td>EmzaQR5hQlF0WIl24NxAZA</td>\n",
       "      <td>2</td>\n",
       "      <td>2</td>\n",
       "      <td>2009-11-16</td>\n",
       "      <td>0</td>\n",
       "      <td>0</td>\n",
       "      <td>0</td>\n",
       "      <td>...</td>\n",
       "      <td>0</td>\n",
       "      <td>0</td>\n",
       "      <td>0</td>\n",
       "      <td>0</td>\n",
       "      <td>0</td>\n",
       "      <td>0</td>\n",
       "      <td>0</td>\n",
       "      <td>0</td>\n",
       "      <td>0</td>\n",
       "      <td>0</td>\n",
       "    </tr>\n",
       "    <tr>\n",
       "      <th>3</th>\n",
       "      <td>pv82zTlB5Txsu2Pusu__FA</td>\n",
       "      <td>CY4SWiYcUZTWS_T_cGaGPA</td>\n",
       "      <td>4</td>\n",
       "      <td>EmzaQR5hQlF0WIl24NxAZA</td>\n",
       "      <td>9</td>\n",
       "      <td>2</td>\n",
       "      <td>2010-08-16</td>\n",
       "      <td>6</td>\n",
       "      <td>0</td>\n",
       "      <td>0</td>\n",
       "      <td>...</td>\n",
       "      <td>0</td>\n",
       "      <td>0</td>\n",
       "      <td>0</td>\n",
       "      <td>0</td>\n",
       "      <td>0</td>\n",
       "      <td>0</td>\n",
       "      <td>0</td>\n",
       "      <td>0</td>\n",
       "      <td>0</td>\n",
       "      <td>0</td>\n",
       "    </tr>\n",
       "    <tr>\n",
       "      <th>4</th>\n",
       "      <td>jlr3OBS1_Y3Lqa-H3-FR1g</td>\n",
       "      <td>VCKytaG-_YkxmQosH4E0jw</td>\n",
       "      <td>0</td>\n",
       "      <td>EmzaQR5hQlF0WIl24NxAZA</td>\n",
       "      <td>1</td>\n",
       "      <td>4</td>\n",
       "      <td>2010-12-04</td>\n",
       "      <td>0</td>\n",
       "      <td>0</td>\n",
       "      <td>0</td>\n",
       "      <td>...</td>\n",
       "      <td>0</td>\n",
       "      <td>0</td>\n",
       "      <td>0</td>\n",
       "      <td>0</td>\n",
       "      <td>0</td>\n",
       "      <td>0</td>\n",
       "      <td>0</td>\n",
       "      <td>0</td>\n",
       "      <td>0</td>\n",
       "      <td>0</td>\n",
       "    </tr>\n",
       "  </tbody>\n",
       "</table>\n",
       "<p>5 rows × 108 columns</p>\n",
       "</div>"
      ],
      "text/plain": [
       "                  user_id               review_id  votes.cool  \\\n",
       "0  o_LCYay4uo5N4eq3U5pbrQ  biEOCicjWlibF26pNLvhcw           0   \n",
       "1  sEWeeq41k4ohBz4jS_iGRw  tOhOHUAS7XJch7a_HW5Csw           3   \n",
       "2  1AqEqmmVHgYCuzcMrF4h2g  2aGafu-x7onydGoDgDfeQQ           0   \n",
       "3  pv82zTlB5Txsu2Pusu__FA  CY4SWiYcUZTWS_T_cGaGPA           4   \n",
       "4  jlr3OBS1_Y3Lqa-H3-FR1g  VCKytaG-_YkxmQosH4E0jw           0   \n",
       "\n",
       "              business_id  votes.funny  stars        date  votes.useful  \\\n",
       "0  EmzaQR5hQlF0WIl24NxAZA            0      3  2007-09-14             1   \n",
       "1  EmzaQR5hQlF0WIl24NxAZA           12      2  2008-04-21             3   \n",
       "2  EmzaQR5hQlF0WIl24NxAZA            2      2  2009-11-16             0   \n",
       "3  EmzaQR5hQlF0WIl24NxAZA            9      2  2010-08-16             6   \n",
       "4  EmzaQR5hQlF0WIl24NxAZA            1      4  2010-12-04             0   \n",
       "\n",
       "   10 minutes  15 minutes     ...      service great  staff friendly  \\\n",
       "0           0           0     ...                  0               0   \n",
       "1           0           0     ...                  0               0   \n",
       "2           0           0     ...                  0               0   \n",
       "3           0           0     ...                  0               0   \n",
       "4           0           0     ...                  0               0   \n",
       "\n",
       "   super friendly  sweet potato  tasted like  time vegas  try place  ve seen  \\\n",
       "0               0             0            0           0          0        0   \n",
       "1               0             0            0           0          0        0   \n",
       "2               0             0            0           0          0        0   \n",
       "3               0             0            0           0          0        0   \n",
       "4               0             0            0           0          0        0   \n",
       "\n",
       "   ve tried  wait staff  \n",
       "0         0           0  \n",
       "1         0           0  \n",
       "2         0           0  \n",
       "3         0           0  \n",
       "4         0           0  \n",
       "\n",
       "[5 rows x 108 columns]"
      ]
     },
     "execution_count": 28,
     "metadata": {},
     "output_type": "execute_result"
    }
   ],
   "source": [
    "reviews.head()"
   ]
  },
  {
   "cell_type": "code",
   "execution_count": 29,
   "metadata": {
    "collapsed": false
   },
   "outputs": [
    {
     "data": {
      "text/html": [
       "<div>\n",
       "<table border=\"1\" class=\"dataframe\">\n",
       "  <thead>\n",
       "    <tr style=\"text-align: right;\">\n",
       "      <th></th>\n",
       "      <th>user_id</th>\n",
       "      <th>business_id</th>\n",
       "      <th>likes</th>\n",
       "      <th>date</th>\n",
       "      <th>24 hours</th>\n",
       "      <th>amazing food</th>\n",
       "      <th>animal style</th>\n",
       "      <th>awesome food</th>\n",
       "      <th>awesome place</th>\n",
       "      <th>awesome service</th>\n",
       "      <th>...</th>\n",
       "      <th>service good</th>\n",
       "      <th>service great</th>\n",
       "      <th>slow service</th>\n",
       "      <th>staff friendly</th>\n",
       "      <th>staff great</th>\n",
       "      <th>steak eggs</th>\n",
       "      <th>super friendly</th>\n",
       "      <th>sweet potato</th>\n",
       "      <th>velvet pancakes</th>\n",
       "      <th>worth wait</th>\n",
       "    </tr>\n",
       "  </thead>\n",
       "  <tbody>\n",
       "    <tr>\n",
       "      <th>0</th>\n",
       "      <td>trdsekNRD-gIs50EBrScwA</td>\n",
       "      <td>EmzaQR5hQlF0WIl24NxAZA</td>\n",
       "      <td>0</td>\n",
       "      <td>2012-02-27</td>\n",
       "      <td>0</td>\n",
       "      <td>0</td>\n",
       "      <td>0</td>\n",
       "      <td>0</td>\n",
       "      <td>0</td>\n",
       "      <td>0</td>\n",
       "      <td>...</td>\n",
       "      <td>0</td>\n",
       "      <td>0</td>\n",
       "      <td>0</td>\n",
       "      <td>0</td>\n",
       "      <td>0</td>\n",
       "      <td>0</td>\n",
       "      <td>0</td>\n",
       "      <td>0</td>\n",
       "      <td>0</td>\n",
       "      <td>0</td>\n",
       "    </tr>\n",
       "    <tr>\n",
       "      <th>1</th>\n",
       "      <td>liIQCDzDTnvXc7X8twBIjg</td>\n",
       "      <td>EmzaQR5hQlF0WIl24NxAZA</td>\n",
       "      <td>0</td>\n",
       "      <td>2013-04-01</td>\n",
       "      <td>0</td>\n",
       "      <td>0</td>\n",
       "      <td>0</td>\n",
       "      <td>0</td>\n",
       "      <td>0</td>\n",
       "      <td>0</td>\n",
       "      <td>...</td>\n",
       "      <td>0</td>\n",
       "      <td>0</td>\n",
       "      <td>0</td>\n",
       "      <td>0</td>\n",
       "      <td>0</td>\n",
       "      <td>0</td>\n",
       "      <td>0</td>\n",
       "      <td>0</td>\n",
       "      <td>0</td>\n",
       "      <td>0</td>\n",
       "    </tr>\n",
       "    <tr>\n",
       "      <th>2</th>\n",
       "      <td>iW1ltQqq4GWAErobLiOv9w</td>\n",
       "      <td>EmzaQR5hQlF0WIl24NxAZA</td>\n",
       "      <td>0</td>\n",
       "      <td>2013-08-18</td>\n",
       "      <td>0</td>\n",
       "      <td>0</td>\n",
       "      <td>0</td>\n",
       "      <td>0</td>\n",
       "      <td>0</td>\n",
       "      <td>0</td>\n",
       "      <td>...</td>\n",
       "      <td>0</td>\n",
       "      <td>0</td>\n",
       "      <td>0</td>\n",
       "      <td>0</td>\n",
       "      <td>0</td>\n",
       "      <td>0</td>\n",
       "      <td>0</td>\n",
       "      <td>0</td>\n",
       "      <td>0</td>\n",
       "      <td>0</td>\n",
       "    </tr>\n",
       "    <tr>\n",
       "      <th>3</th>\n",
       "      <td>wiBTgZNmDKHDgeuKSxIMjQ</td>\n",
       "      <td>SiwN7f0N4bs4ZtPc4yPgiA</td>\n",
       "      <td>0</td>\n",
       "      <td>2011-02-11</td>\n",
       "      <td>0</td>\n",
       "      <td>0</td>\n",
       "      <td>0</td>\n",
       "      <td>0</td>\n",
       "      <td>0</td>\n",
       "      <td>0</td>\n",
       "      <td>...</td>\n",
       "      <td>0</td>\n",
       "      <td>0</td>\n",
       "      <td>0</td>\n",
       "      <td>0</td>\n",
       "      <td>0</td>\n",
       "      <td>0</td>\n",
       "      <td>0</td>\n",
       "      <td>0</td>\n",
       "      <td>0</td>\n",
       "      <td>0</td>\n",
       "    </tr>\n",
       "    <tr>\n",
       "      <th>4</th>\n",
       "      <td>wiBTgZNmDKHDgeuKSxIMjQ</td>\n",
       "      <td>SiwN7f0N4bs4ZtPc4yPgiA</td>\n",
       "      <td>0</td>\n",
       "      <td>2011-02-11</td>\n",
       "      <td>0</td>\n",
       "      <td>0</td>\n",
       "      <td>0</td>\n",
       "      <td>0</td>\n",
       "      <td>0</td>\n",
       "      <td>0</td>\n",
       "      <td>...</td>\n",
       "      <td>0</td>\n",
       "      <td>0</td>\n",
       "      <td>0</td>\n",
       "      <td>0</td>\n",
       "      <td>0</td>\n",
       "      <td>0</td>\n",
       "      <td>0</td>\n",
       "      <td>0</td>\n",
       "      <td>0</td>\n",
       "      <td>0</td>\n",
       "    </tr>\n",
       "  </tbody>\n",
       "</table>\n",
       "<p>5 rows × 104 columns</p>\n",
       "</div>"
      ],
      "text/plain": [
       "                  user_id             business_id  likes        date  \\\n",
       "0  trdsekNRD-gIs50EBrScwA  EmzaQR5hQlF0WIl24NxAZA      0  2012-02-27   \n",
       "1  liIQCDzDTnvXc7X8twBIjg  EmzaQR5hQlF0WIl24NxAZA      0  2013-04-01   \n",
       "2  iW1ltQqq4GWAErobLiOv9w  EmzaQR5hQlF0WIl24NxAZA      0  2013-08-18   \n",
       "3  wiBTgZNmDKHDgeuKSxIMjQ  SiwN7f0N4bs4ZtPc4yPgiA      0  2011-02-11   \n",
       "4  wiBTgZNmDKHDgeuKSxIMjQ  SiwN7f0N4bs4ZtPc4yPgiA      0  2011-02-11   \n",
       "\n",
       "   24 hours  amazing food  animal style  awesome food  awesome place  \\\n",
       "0         0             0             0             0              0   \n",
       "1         0             0             0             0              0   \n",
       "2         0             0             0             0              0   \n",
       "3         0             0             0             0              0   \n",
       "4         0             0             0             0              0   \n",
       "\n",
       "   awesome service     ...      service good  service great  slow service  \\\n",
       "0                0     ...                 0              0             0   \n",
       "1                0     ...                 0              0             0   \n",
       "2                0     ...                 0              0             0   \n",
       "3                0     ...                 0              0             0   \n",
       "4                0     ...                 0              0             0   \n",
       "\n",
       "   staff friendly  staff great  steak eggs  super friendly  sweet potato  \\\n",
       "0               0            0           0               0             0   \n",
       "1               0            0           0               0             0   \n",
       "2               0            0           0               0             0   \n",
       "3               0            0           0               0             0   \n",
       "4               0            0           0               0             0   \n",
       "\n",
       "   velvet pancakes  worth wait  \n",
       "0                0           0  \n",
       "1                0           0  \n",
       "2                0           0  \n",
       "3                0           0  \n",
       "4                0           0  \n",
       "\n",
       "[5 rows x 104 columns]"
      ]
     },
     "execution_count": 29,
     "metadata": {},
     "output_type": "execute_result"
    }
   ],
   "source": [
    "tips.head()"
   ]
  },
  {
   "cell_type": "code",
   "execution_count": 30,
   "metadata": {
    "collapsed": false
   },
   "outputs": [
    {
     "name": "stdout",
     "output_type": "stream",
     "text": [
      "(101991, 104) Index([u'user_id', u'business_id', u'likes', u'date', u'24 hours',\n",
      "       u'amazing food', u'animal style', u'awesome food', u'awesome place',\n",
      "       u'awesome service',\n",
      "       ...\n",
      "       u'service good', u'service great', u'slow service', u'staff friendly',\n",
      "       u'staff great', u'steak eggs', u'super friendly', u'sweet potato',\n",
      "       u'velvet pancakes', u'worth wait'],\n",
      "      dtype='object', length=104)\n"
     ]
    },
    {
     "data": {
      "text/plain": [
       "3752"
      ]
     },
     "execution_count": 30,
     "metadata": {},
     "output_type": "execute_result"
    }
   ],
   "source": [
    "print tips.shape, tips.columns\n",
    "tips.business_id.nunique()"
   ]
  },
  {
   "cell_type": "code",
   "execution_count": null,
   "metadata": {
    "collapsed": true
   },
   "outputs": [],
   "source": []
  },
  {
   "cell_type": "code",
   "execution_count": 31,
   "metadata": {
    "collapsed": false
   },
   "outputs": [
    {
     "name": "stdout",
     "output_type": "stream",
     "text": [
      "Index([u'user_id', u'review_id', u'votes.cool', u'business_id', u'votes.funny',\n",
      "       u'stars', u'date', u'votes.useful', u'10 minutes', u'15 minutes',\n",
      "       ...\n",
      "       u'service great', u'staff friendly', u'super friendly', u'sweet potato',\n",
      "       u'tasted like', u'time vegas', u'try place', u've seen', u've tried',\n",
      "       u'wait staff'],\n",
      "      dtype='object', length=108) (322398, 108)\n"
     ]
    },
    {
     "data": {
      "text/plain": [
       "Index([u'user_id', u'review_id', u'votes.cool', u'business_id', u'votes.funny',\n",
       "       u'stars', u'date', u'votes.useful', u'10 minutes', u'15 minutes',\n",
       "       u'20 minutes', u'30 minutes', u'bar food', u'beer selection',\n",
       "       u'best ve', u'bloody mary', u'bottle service', u'chicken waffles',\n",
       "       u'customer service', u'dance floor', u'decided try', u'definitely come',\n",
       "       u'definitely recommend', u'didn want', u'don know', u'don like',\n",
       "       u'don think', u'don want', u'eggs benedict', u'fast food', u'feel like',\n",
       "       u'felt like', u'fish chips', u'food amazing', u'food came',\n",
       "       u'food delicious', u'food good', u'food great', u'food just',\n",
       "       u'food service', u'french fries', u'french toast', u'friday night',\n",
       "       u'fried chicken', u'friendly staff', u'good food', u'good place',\n",
       "       u'good service', u'good thing', u'good time'],\n",
       "      dtype='object')"
      ]
     },
     "execution_count": 31,
     "metadata": {},
     "output_type": "execute_result"
    }
   ],
   "source": [
    "print reviews.columns, reviews.shape\n",
    "reviews.columns[0:50]"
   ]
  },
  {
   "cell_type": "code",
   "execution_count": 32,
   "metadata": {
    "collapsed": false
   },
   "outputs": [
    {
     "name": "stdout",
     "output_type": "stream",
     "text": [
      "(144206, 21) Index([u'yelping_since', u'compliments.plain', u'review_count',\n",
      "       u'compliments.cute', u'compliments.writer', u'fans',\n",
      "       u'compliments.note', u'compliments.hot', u'compliments.cool',\n",
      "       u'compliments.profile', u'average_stars', u'compliments.more', u'elite',\n",
      "       u'name', u'user_id', u'votes.cool', u'compliments.list', u'votes.funny',\n",
      "       u'compliments.photos', u'compliments.funny', u'votes.useful'],\n",
      "      dtype='object')\n"
     ]
    },
    {
     "data": {
      "text/plain": [
       "Index([u'yelping_since', u'compliments.plain', u'review_count',\n",
       "       u'compliments.cute', u'compliments.writer', u'fans',\n",
       "       u'compliments.note', u'compliments.hot', u'compliments.cool',\n",
       "       u'compliments.profile', u'average_stars', u'compliments.more', u'elite',\n",
       "       u'name', u'user_id', u'votes.cool', u'compliments.list', u'votes.funny',\n",
       "       u'compliments.photos', u'compliments.funny', u'votes.useful'],\n",
       "      dtype='object')"
      ]
     },
     "execution_count": 32,
     "metadata": {},
     "output_type": "execute_result"
    }
   ],
   "source": [
    "print users.shape, users.columns\n",
    "users.columns"
   ]
  },
  {
   "cell_type": "code",
   "execution_count": 33,
   "metadata": {
    "collapsed": false
   },
   "outputs": [
    {
     "name": "stdout",
     "output_type": "stream",
     "text": [
      "(214299, 3) Index([u'business_id', u'variable', u'value'], dtype='object')\n"
     ]
    },
    {
     "data": {
      "text/html": [
       "<div>\n",
       "<table border=\"1\" class=\"dataframe\">\n",
       "  <thead>\n",
       "    <tr style=\"text-align: right;\">\n",
       "      <th></th>\n",
       "      <th>business_id</th>\n",
       "      <th>variable</th>\n",
       "      <th>value</th>\n",
       "    </tr>\n",
       "  </thead>\n",
       "  <tbody>\n",
       "    <tr>\n",
       "      <th>0</th>\n",
       "      <td>SG_gEmEXL4ID6RAEinC5Bg</td>\n",
       "      <td>checkin_info.9-0</td>\n",
       "      <td>1.0</td>\n",
       "    </tr>\n",
       "    <tr>\n",
       "      <th>1</th>\n",
       "      <td>45puCRQ6Vh_IIAy7kkfFDQ</td>\n",
       "      <td>checkin_info.9-0</td>\n",
       "      <td>1.0</td>\n",
       "    </tr>\n",
       "    <tr>\n",
       "      <th>2</th>\n",
       "      <td>P7wKlbSRsoRrfH3DFOY08A</td>\n",
       "      <td>checkin_info.9-0</td>\n",
       "      <td>1.0</td>\n",
       "    </tr>\n",
       "    <tr>\n",
       "      <th>3</th>\n",
       "      <td>qsWxbgQwuomXvMseg23DGg</td>\n",
       "      <td>checkin_info.9-0</td>\n",
       "      <td>1.0</td>\n",
       "    </tr>\n",
       "    <tr>\n",
       "      <th>4</th>\n",
       "      <td>VCQ3VvnVRhibTT8J61xWkw</td>\n",
       "      <td>checkin_info.9-0</td>\n",
       "      <td>1.0</td>\n",
       "    </tr>\n",
       "  </tbody>\n",
       "</table>\n",
       "</div>"
      ],
      "text/plain": [
       "              business_id          variable  value\n",
       "0  SG_gEmEXL4ID6RAEinC5Bg  checkin_info.9-0    1.0\n",
       "1  45puCRQ6Vh_IIAy7kkfFDQ  checkin_info.9-0    1.0\n",
       "2  P7wKlbSRsoRrfH3DFOY08A  checkin_info.9-0    1.0\n",
       "3  qsWxbgQwuomXvMseg23DGg  checkin_info.9-0    1.0\n",
       "4  VCQ3VvnVRhibTT8J61xWkw  checkin_info.9-0    1.0"
      ]
     },
     "execution_count": 33,
     "metadata": {},
     "output_type": "execute_result"
    }
   ],
   "source": [
    "print checkins.shape, checkins.columns\n",
    "checkins.head()"
   ]
  },
  {
   "cell_type": "markdown",
   "metadata": {},
   "source": [
    "<img src=\"http://imgur.com/l5NasQj.png\" style=\"float: left; margin: 25px 15px 0px 0px; height: 25px\">\n",
    "\n",
    "## 2. Different categories of ratings\n",
    "\n",
    "---\n",
    "\n",
    "Yelp is finally ready to admit that their rating system sucks. No one cares about the ratings, they just use the site to find out what's nearby. The ratings are simply too unreliable for people. \n",
    "\n",
    "Yelp hypothesizes that this is, in fact, because different people tend to give their ratings based on different things. They believe that perhaps some people always base their ratings on quality of food, others on service, and perhaps other categories as well. \n",
    "\n",
    "1. Do some users tend to talk about service more than others in reviews/tips? Divide up the tips/reviews into more \"service-focused\" ones and those less concerned with service.\n",
    "2. Create two new ratings for businesses: ratings from just the service-focused reviews and ratings from the non-service reviews.\n",
    "3. Construct a regression model for each of the two ratings. They should use the same predictor variables (of your choice). \n",
    "4. Validate the performance of the models.\n",
    "5. Do the models coefficients differ at all? What does this tell you about the hypothesis that there are in fact two different kinds of ratings?"
   ]
  },
  {
   "cell_type": "code",
   "execution_count": 34,
   "metadata": {
    "collapsed": true
   },
   "outputs": [],
   "source": [
    "col_names = tips.columns"
   ]
  },
  {
   "cell_type": "code",
   "execution_count": 35,
   "metadata": {
    "collapsed": false
   },
   "outputs": [],
   "source": [
    "tips['service great'] = tips['service great'].map(lambda x: 1 if x>=1 else 0)"
   ]
  },
  {
   "cell_type": "code",
   "execution_count": 36,
   "metadata": {
    "collapsed": false
   },
   "outputs": [],
   "source": [
    "service_lst = []\n",
    "for item in col_names:\n",
    "    if 'service' in item:\n",
    "        service_lst.append(item)"
   ]
  },
  {
   "cell_type": "code",
   "execution_count": 37,
   "metadata": {
    "collapsed": true
   },
   "outputs": [],
   "source": [
    "no_service_lst = []\n",
    "for item in col_names:\n",
    "    if not 'service' in item:\n",
    "        no_service_lst.append(item)\n",
    "no_service_lst.append('bottle service')"
   ]
  },
  {
   "cell_type": "code",
   "execution_count": 38,
   "metadata": {
    "collapsed": false
   },
   "outputs": [
    {
     "data": {
      "text/plain": [
       "0.09717549266306652"
      ]
     },
     "execution_count": 38,
     "metadata": {},
     "output_type": "execute_result"
    }
   ],
   "source": [
    "service_tips = tips.groupby(['user_id'])[service_lst].sum().reset_index()\n",
    "service_tips = service_tips.drop('bottle service',axis=1)\n",
    "service_tips['total_comment'] = service_tips.sum(axis=1,numeric_only=True)\n",
    "float(len(service_tips[service_tips.total_comment > 0]))/len(tips.user_id.unique())"
   ]
  },
  {
   "cell_type": "code",
   "execution_count": 39,
   "metadata": {
    "collapsed": false
   },
   "outputs": [
    {
     "data": {
      "text/plain": [
       "0.3811529870790806"
      ]
     },
     "execution_count": 39,
     "metadata": {},
     "output_type": "execute_result"
    }
   ],
   "source": [
    "no_service_tips = tips.groupby(['user_id'])[no_service_lst].sum().reset_index()\n",
    "no_service_tips['total_comment'] = no_service_tips.sum(axis=1,numeric_only=True)\n",
    "len(no_service_tips[no_service_tips.total_comment > 0])/float(len(tips.user_id.unique()))"
   ]
  },
  {
   "cell_type": "code",
   "execution_count": 40,
   "metadata": {
    "collapsed": false
   },
   "outputs": [
    {
     "data": {
      "text/plain": [
       "(1030290, 211)"
      ]
     },
     "execution_count": 40,
     "metadata": {},
     "output_type": "execute_result"
    }
   ],
   "source": [
    "test = pd.merge(reviews,tips,on='user_id')\n",
    "test.shape"
   ]
  },
  {
   "cell_type": "code",
   "execution_count": 41,
   "metadata": {
    "collapsed": false
   },
   "outputs": [],
   "source": [
    "test = test.groupby(['user_id']).sum().reset_index()"
   ]
  },
  {
   "cell_type": "code",
   "execution_count": 42,
   "metadata": {
    "collapsed": true
   },
   "outputs": [],
   "source": [
    "col_names_total = test.columns"
   ]
  },
  {
   "cell_type": "code",
   "execution_count": 43,
   "metadata": {
    "collapsed": false
   },
   "outputs": [],
   "source": [
    "service_lst_total = []\n",
    "for item in col_names_total:\n",
    "    if 'service' in item:\n",
    "        service_lst_total.append(item)"
   ]
  },
  {
   "cell_type": "code",
   "execution_count": 44,
   "metadata": {
    "collapsed": false
   },
   "outputs": [
    {
     "data": {
      "text/html": [
       "<div>\n",
       "<table border=\"1\" class=\"dataframe\">\n",
       "  <thead>\n",
       "    <tr style=\"text-align: right;\">\n",
       "      <th></th>\n",
       "      <th>user_id</th>\n",
       "      <th>votes.cool</th>\n",
       "      <th>votes.funny</th>\n",
       "      <th>stars</th>\n",
       "      <th>votes.useful</th>\n",
       "      <th>10 minutes</th>\n",
       "      <th>15 minutes</th>\n",
       "      <th>20 minutes</th>\n",
       "      <th>30 minutes</th>\n",
       "      <th>bar food</th>\n",
       "      <th>...</th>\n",
       "      <th>service good_y</th>\n",
       "      <th>service great_y</th>\n",
       "      <th>slow service</th>\n",
       "      <th>staff friendly_y</th>\n",
       "      <th>staff great</th>\n",
       "      <th>steak eggs</th>\n",
       "      <th>super friendly_y</th>\n",
       "      <th>sweet potato_y</th>\n",
       "      <th>velvet pancakes</th>\n",
       "      <th>worth wait</th>\n",
       "    </tr>\n",
       "  </thead>\n",
       "  <tbody>\n",
       "    <tr>\n",
       "      <th>0</th>\n",
       "      <td>--2QZsyXGz1OhiD4-0FQLQ</td>\n",
       "      <td>0</td>\n",
       "      <td>0</td>\n",
       "      <td>5</td>\n",
       "      <td>0</td>\n",
       "      <td>0</td>\n",
       "      <td>0</td>\n",
       "      <td>0</td>\n",
       "      <td>0</td>\n",
       "      <td>0</td>\n",
       "      <td>...</td>\n",
       "      <td>0</td>\n",
       "      <td>0</td>\n",
       "      <td>0</td>\n",
       "      <td>0</td>\n",
       "      <td>0</td>\n",
       "      <td>0</td>\n",
       "      <td>0</td>\n",
       "      <td>0</td>\n",
       "      <td>0</td>\n",
       "      <td>0</td>\n",
       "    </tr>\n",
       "    <tr>\n",
       "      <th>1</th>\n",
       "      <td>--4fX3LBeXoE88gDTK6TKQ</td>\n",
       "      <td>3</td>\n",
       "      <td>4</td>\n",
       "      <td>17</td>\n",
       "      <td>12</td>\n",
       "      <td>0</td>\n",
       "      <td>0</td>\n",
       "      <td>1</td>\n",
       "      <td>0</td>\n",
       "      <td>2</td>\n",
       "      <td>...</td>\n",
       "      <td>0</td>\n",
       "      <td>0</td>\n",
       "      <td>0</td>\n",
       "      <td>0</td>\n",
       "      <td>0</td>\n",
       "      <td>0</td>\n",
       "      <td>0</td>\n",
       "      <td>0</td>\n",
       "      <td>0</td>\n",
       "      <td>0</td>\n",
       "    </tr>\n",
       "    <tr>\n",
       "      <th>2</th>\n",
       "      <td>--65q1FpAL_UQtVZ2PTGew</td>\n",
       "      <td>2775</td>\n",
       "      <td>1813</td>\n",
       "      <td>4144</td>\n",
       "      <td>3145</td>\n",
       "      <td>0</td>\n",
       "      <td>0</td>\n",
       "      <td>0</td>\n",
       "      <td>0</td>\n",
       "      <td>37</td>\n",
       "      <td>...</td>\n",
       "      <td>0</td>\n",
       "      <td>0</td>\n",
       "      <td>0</td>\n",
       "      <td>0</td>\n",
       "      <td>0</td>\n",
       "      <td>0</td>\n",
       "      <td>0</td>\n",
       "      <td>0</td>\n",
       "      <td>0</td>\n",
       "      <td>0</td>\n",
       "    </tr>\n",
       "    <tr>\n",
       "      <th>3</th>\n",
       "      <td>--FpxrGL-a82dkgrWZLn5Q</td>\n",
       "      <td>0</td>\n",
       "      <td>0</td>\n",
       "      <td>5</td>\n",
       "      <td>0</td>\n",
       "      <td>0</td>\n",
       "      <td>0</td>\n",
       "      <td>0</td>\n",
       "      <td>0</td>\n",
       "      <td>0</td>\n",
       "      <td>...</td>\n",
       "      <td>0</td>\n",
       "      <td>0</td>\n",
       "      <td>0</td>\n",
       "      <td>0</td>\n",
       "      <td>0</td>\n",
       "      <td>0</td>\n",
       "      <td>0</td>\n",
       "      <td>0</td>\n",
       "      <td>0</td>\n",
       "      <td>0</td>\n",
       "    </tr>\n",
       "    <tr>\n",
       "      <th>4</th>\n",
       "      <td>--JC6ri9lh1-tazGOFA3yg</td>\n",
       "      <td>0</td>\n",
       "      <td>2</td>\n",
       "      <td>3</td>\n",
       "      <td>0</td>\n",
       "      <td>0</td>\n",
       "      <td>0</td>\n",
       "      <td>0</td>\n",
       "      <td>0</td>\n",
       "      <td>0</td>\n",
       "      <td>...</td>\n",
       "      <td>0</td>\n",
       "      <td>0</td>\n",
       "      <td>0</td>\n",
       "      <td>0</td>\n",
       "      <td>0</td>\n",
       "      <td>0</td>\n",
       "      <td>0</td>\n",
       "      <td>0</td>\n",
       "      <td>0</td>\n",
       "      <td>0</td>\n",
       "    </tr>\n",
       "  </tbody>\n",
       "</table>\n",
       "<p>5 rows × 206 columns</p>\n",
       "</div>"
      ],
      "text/plain": [
       "                  user_id  votes.cool  votes.funny  stars  votes.useful  \\\n",
       "0  --2QZsyXGz1OhiD4-0FQLQ           0            0      5             0   \n",
       "1  --4fX3LBeXoE88gDTK6TKQ           3            4     17            12   \n",
       "2  --65q1FpAL_UQtVZ2PTGew        2775         1813   4144          3145   \n",
       "3  --FpxrGL-a82dkgrWZLn5Q           0            0      5             0   \n",
       "4  --JC6ri9lh1-tazGOFA3yg           0            2      3             0   \n",
       "\n",
       "   10 minutes  15 minutes  20 minutes  30 minutes  bar food     ...      \\\n",
       "0           0           0           0           0         0     ...       \n",
       "1           0           0           1           0         2     ...       \n",
       "2           0           0           0           0        37     ...       \n",
       "3           0           0           0           0         0     ...       \n",
       "4           0           0           0           0         0     ...       \n",
       "\n",
       "   service good_y  service great_y  slow service  staff friendly_y  \\\n",
       "0               0                0             0                 0   \n",
       "1               0                0             0                 0   \n",
       "2               0                0             0                 0   \n",
       "3               0                0             0                 0   \n",
       "4               0                0             0                 0   \n",
       "\n",
       "   staff great  steak eggs  super friendly_y  sweet potato_y  velvet pancakes  \\\n",
       "0            0           0                 0               0                0   \n",
       "1            0           0                 0               0                0   \n",
       "2            0           0                 0               0                0   \n",
       "3            0           0                 0               0                0   \n",
       "4            0           0                 0               0                0   \n",
       "\n",
       "   worth wait  \n",
       "0           0  \n",
       "1           0  \n",
       "2           0  \n",
       "3           0  \n",
       "4           0  \n",
       "\n",
       "[5 rows x 206 columns]"
      ]
     },
     "execution_count": 44,
     "metadata": {},
     "output_type": "execute_result"
    }
   ],
   "source": [
    "test.head()"
   ]
  },
  {
   "cell_type": "code",
   "execution_count": 45,
   "metadata": {
    "collapsed": false
   },
   "outputs": [
    {
     "name": "stderr",
     "output_type": "stream",
     "text": [
      "/Users/Yemre/anaconda/envs/dsi/lib/python2.7/site-packages/ipykernel/__main__.py:3: UserWarning: Boolean Series key will be reindexed to match DataFrame index.\n",
      "  app.launch_new_instance()\n"
     ]
    },
    {
     "data": {
      "text/plain": [
       "0.0975511681209538"
      ]
     },
     "execution_count": 45,
     "metadata": {},
     "output_type": "execute_result"
    }
   ],
   "source": [
    "service_total = test.groupby(['user_id'])[service_lst_total].sum().reset_index()\n",
    "service_total['total_comment'] = service_total.sum(axis=1,numeric_only=True)\n",
    "float(len(service_total[service_tips.total_comment > 0]))/len(test.user_id.unique())"
   ]
  },
  {
   "cell_type": "markdown",
   "metadata": {},
   "source": [
    "<img src=\"http://imgur.com/l5NasQj.png\" style=\"float: left; margin: 25px 15px 0px 0px; height: 25px\">\n",
    "\n",
    "## 3. Identifying \"elite\" users\n",
    "\n",
    "---\n",
    "\n",
    "Yelp, though having their own formula for determining whether a user is elite or not, is interested in delving deeper into what differentiates an elite user from a normal user at a broader level.\n",
    "\n",
    "Use a classification model to predict whether a user is elite or not. Note that users can be elite in some years and not in others.\n",
    "\n",
    "1. What things predict well whether a user is elite or not?\n",
    "- Validate the model.\n",
    "- If you were to remove the \"counts\" metrics for users (reviews, votes, compliments), what distinguishes an elite user, if anything? Validate the model and compare it to the one with the count variables.\n",
    "- Think of a way to visually represent your results in a compelling way.\n",
    "- Give a brief write-up of your findings.\n"
   ]
  },
  {
   "cell_type": "code",
   "execution_count": 46,
   "metadata": {
    "collapsed": false
   },
   "outputs": [],
   "source": [
    "#users['elite_class'] = users.elite.map(lambda x : len(x.split(\",\")) if len(x)>2 else 0)\n",
    "users['elite_class'] = users.elite.map(lambda x : 1 if len(x)>2 else 0)"
   ]
  },
  {
   "cell_type": "code",
   "execution_count": 47,
   "metadata": {
    "collapsed": false
   },
   "outputs": [],
   "source": [
    "users = users.drop(['elite','user_id','name','yelping_since'],axis=1)"
   ]
  },
  {
   "cell_type": "code",
   "execution_count": 48,
   "metadata": {
    "collapsed": false
   },
   "outputs": [],
   "source": [
    "users = users.fillna(0)"
   ]
  },
  {
   "cell_type": "code",
   "execution_count": 49,
   "metadata": {
    "collapsed": false
   },
   "outputs": [],
   "source": [
    "X = users[users.columns[:-1]].values\n",
    "y = users.elite_class.values"
   ]
  },
  {
   "cell_type": "code",
   "execution_count": 50,
   "metadata": {
    "collapsed": true
   },
   "outputs": [],
   "source": [
    "X = mms.fit_transform(X)"
   ]
  },
  {
   "cell_type": "code",
   "execution_count": 51,
   "metadata": {
    "collapsed": false
   },
   "outputs": [
    {
     "data": {
      "text/plain": [
       "LogisticRegression(C=1.0, class_weight=None, dual=False, fit_intercept=True,\n",
       "          intercept_scaling=1, max_iter=100, multi_class='ovr', n_jobs=1,\n",
       "          penalty='l1', random_state=None, solver='liblinear', tol=0.0001,\n",
       "          verbose=0, warm_start=False)"
      ]
     },
     "execution_count": 51,
     "metadata": {},
     "output_type": "execute_result"
    }
   ],
   "source": [
    "Xl_train, Xl_test, yl_train, yl_test = train_test_split(X, y, test_size = .33, random_state = 3)\n",
    "\n",
    "lasso = LogisticRegression(penalty=\"l1\")\n",
    "\n",
    "lasso.fit(Xl_train,yl_train)"
   ]
  },
  {
   "cell_type": "code",
   "execution_count": 52,
   "metadata": {
    "collapsed": false
   },
   "outputs": [
    {
     "data": {
      "text/plain": [
       "array([ 0.94487206,  0.9442133 ,  0.94289578,  0.94254508,  0.9399792 ])"
      ]
     },
     "execution_count": 52,
     "metadata": {},
     "output_type": "execute_result"
    }
   ],
   "source": [
    "lasso.score(Xl_test,yl_test)\n",
    "cross_val_score(lasso,X,y,cv=5)"
   ]
  },
  {
   "cell_type": "code",
   "execution_count": 53,
   "metadata": {
    "collapsed": false
   },
   "outputs": [
    {
     "name": "stdout",
     "output_type": "stream",
     "text": [
      "0.957300159704\n"
     ]
    },
    {
     "data": {
      "text/plain": [
       "array([ 0.95600166,  0.95627904,  0.95679911,  0.95839112,  0.95495839])"
      ]
     },
     "execution_count": 53,
     "metadata": {},
     "output_type": "execute_result"
    }
   ],
   "source": [
    "rf = RandomForestClassifier(n_estimators=5, max_depth=5, min_samples_split=2, random_state=3)\n",
    "X_train, X_test, y_train, y_test = train_test_split(X, y, test_size = .33, random_state = 3)\n",
    "rf.fit(X_train,y_train)\n",
    "print rf.score(X_test,y_test)\n",
    "scores = cross_val_score(rf, X, y, cv = 5)\n",
    "scores"
   ]
  },
  {
   "cell_type": "code",
   "execution_count": 55,
   "metadata": {
    "collapsed": false
   },
   "outputs": [
    {
     "name": "stdout",
     "output_type": "stream",
     "text": [
      "['compliments.writer', 'compliments.cool', 'compliments.note', 'compliments.more', 'review_count', 'votes.useful', 'compliments.plain', 'compliments.hot', 'votes.cool', 'fans']\n"
     ]
    },
    {
     "data": {
      "image/png": "[encoded data removed]",
      "text/plain": [
       "<matplotlib.figure.Figure at 0x1133c4850>"
      ]
     },
     "metadata": {
      "image/png": {
       "height": 339,
       "width": 416
      }
     },
     "output_type": "display_data"
    }
   ],
   "source": [
    "feature_importance = zip(rf.feature_importances_,users[users.columns[:-1]])\n",
    "\n",
    "feature_importance\n",
    "\n",
    "top_10_predictors = sorted(zip(rf.feature_importances_, users[users.columns[:-1]]), reverse=True)[:10]\n",
    "\n",
    "top_10_predictors\n",
    "\n",
    "values = [value for value, predictors in top_10_predictors]\n",
    "predictors = [predictors for value, predictors in top_10_predictors]\n",
    "print predictors\n",
    "\n",
    "# Plot the feature importances of the forest\n",
    "\n",
    "\n",
    "plt.figure()\n",
    "plt.title(\"Feature importances\")\n",
    "plt.bar(range(len(predictors)), values,color=\"r\", align=\"center\");\n",
    "plt.xticks(range(len(predictors)), predictors, rotation=90);\n",
    "\n"
   ]
  },
  {
   "cell_type": "code",
   "execution_count": 56,
   "metadata": {
    "collapsed": false
   },
   "outputs": [
    {
     "data": {
      "text/plain": [
       "Index([u'compliments.plain', u'review_count', u'compliments.cute',\n",
       "       u'compliments.writer', u'fans', u'compliments.note', u'compliments.hot',\n",
       "       u'compliments.cool', u'compliments.profile', u'average_stars',\n",
       "       u'compliments.more', u'votes.cool', u'compliments.list', u'votes.funny',\n",
       "       u'compliments.photos', u'compliments.funny', u'votes.useful',\n",
       "       u'elite_class'],\n",
       "      dtype='object')"
      ]
     },
     "execution_count": 56,
     "metadata": {},
     "output_type": "execute_result"
    }
   ],
   "source": [
    "col_users = users.columns\n",
    "col_users"
   ]
  },
  {
   "cell_type": "code",
   "execution_count": 57,
   "metadata": {
    "collapsed": false
   },
   "outputs": [],
   "source": [
    "col_no_count = []\n",
    "\n",
    "for item in col_users:\n",
    "    if ('review' in item or 'votes' in item or 'compliments' in item)!= True:\n",
    "        col_no_count.append(item)\n",
    "\n",
    "users_no_count = users[col_no_count]"
   ]
  },
  {
   "cell_type": "code",
   "execution_count": 58,
   "metadata": {
    "collapsed": false
   },
   "outputs": [],
   "source": [
    "X = users_no_count[users_no_count.columns[:-1]].values\n",
    "y = users_no_count.elite_class.values"
   ]
  },
  {
   "cell_type": "code",
   "execution_count": 59,
   "metadata": {
    "collapsed": false
   },
   "outputs": [
    {
     "name": "stdout",
     "output_type": "stream",
     "text": [
      "0.943809363705\n"
     ]
    },
    {
     "data": {
      "text/plain": [
       "array([ 0.94390126,  0.9416476 ,  0.94254906,  0.94483356,  0.94303051])"
      ]
     },
     "execution_count": 59,
     "metadata": {},
     "output_type": "execute_result"
    }
   ],
   "source": [
    "rf = RandomForestClassifier(n_estimators=5, max_depth=5, min_samples_split=2, random_state=3)\n",
    "X_train, X_test, y_train, y_test = train_test_split(X, y, test_size = .33, random_state = 3)\n",
    "rf.fit(X_train,y_train)\n",
    "print rf.score(X_test,y_test)\n",
    "scores = cross_val_score(rf, X, y, cv = 5)\n",
    "scores"
   ]
  },
  {
   "cell_type": "code",
   "execution_count": 60,
   "metadata": {
    "collapsed": false
   },
   "outputs": [
    {
     "name": "stdout",
     "output_type": "stream",
     "text": [
      "['fans', 'average_stars']\n"
     ]
    },
    {
     "data": {
      "image/png": "[encoded data removed]",
      "text/plain": [
       "<matplotlib.figure.Figure at 0x116e89510>"
      ]
     },
     "metadata": {
      "image/png": {
       "height": 319,
       "width": 411
      }
     },
     "output_type": "display_data"
    }
   ],
   "source": [
    "feature_importance = zip(rf.feature_importances_,users[users_no_count.columns[:-1]])\n",
    "\n",
    "feature_importance\n",
    "\n",
    "top_10_predictors = sorted(zip(rf.feature_importances_, users_no_count[users_no_count.columns[:-1]]), reverse=True)[:10]\n",
    "\n",
    "top_10_predictors\n",
    "\n",
    "values = [value for value, predictors in top_10_predictors]\n",
    "predictors = [predictors for value, predictors in top_10_predictors]\n",
    "print predictors\n",
    "\n",
    "# Plot the feature importances of the forest\n",
    "\n",
    "plt.figure()\n",
    "plt.title(\"Feature importances\")\n",
    "plt.bar(range(len(predictors)), values,color=\"r\", align=\"center\");\n",
    "plt.xticks(range(len(predictors)), predictors, rotation=90);"
   ]
  },
  {
   "cell_type": "code",
   "execution_count": 61,
   "metadata": {
    "collapsed": false
   },
   "outputs": [
    {
     "name": "stdout",
     "output_type": "stream",
     "text": [
      "0.936076321762\n"
     ]
    },
    {
     "data": {
      "text/plain": [
       "array([ 0.93731364,  0.93582276,  0.93641218,  0.93446602,  0.93307906])"
      ]
     },
     "execution_count": 61,
     "metadata": {},
     "output_type": "execute_result"
    }
   ],
   "source": [
    "Xl_train, Xl_test, yl_train, yl_test = train_test_split(X, y, test_size = .33, random_state = 3)\n",
    "\n",
    "lasso = LogisticRegression(penalty=\"l1\")\n",
    "\n",
    "lasso.fit(Xl_train,yl_train)\n",
    "\n",
    "print lasso.score(Xl_test,yl_test)\n",
    "cross_val_score(lasso,X,y,cv=5)"
   ]
  },
  {
   "cell_type": "markdown",
   "metadata": {},
   "source": [
    "<img src=\"http://imgur.com/GCAf1UX.png\" style=\"float: left; margin: 25px 15px 0px 0px; height: 25px\">\n",
    "\n",
    "## 4. Find something interesting on your own\n",
    "\n",
    "---\n",
    "\n",
    "You want to impress your superiors at Yelp by doing some investigation into the data on your own. You want to do classification, but you're not sure on what.\n",
    "\n",
    "1. Create a hypothesis or hypotheses about the data based on whatever you are interested in, as long as it is predicting a category of some kind (classification).\n",
    "2. Explore the data visually (ideally related to this hypothesis).\n",
    "3. Build one or more classification models to predict your target variable. **Your modeling should include gridsearching to find optimal model parameters.**\n",
    "4. Evaluate the performance of your model. Explain why your model may have chosen those specific parameters during the gridsearch process.\n",
    "5. Write up what the model tells you. Does it validate or invalidate your hypothesis? Write this up as if for a non-technical audience."
   ]
  },
  {
   "cell_type": "markdown",
   "metadata": {
    "collapsed": true
   },
   "source": [
    "### Create a new feature based on service and everything else\n",
    "### Try to predict weather a user will favor service or everything else\n",
    "### Then when searched for a place show the result based on the favor of the user\n",
    "### Come back when done"
   ]
  },
  {
   "cell_type": "markdown",
   "metadata": {},
   "source": [
    "<img src=\"http://imgur.com/GCAf1UX.png\" style=\"float: left; margin: 25px 15px 0px 0px; height: 25px\">\n",
    "\n",
    "## 5. ROC and Precision-recall\n",
    "\n",
    "---\n",
    "\n",
    "Some categories have fewer overall businesses than others. Choose two categories of businesses to predict, one that makes your proportion of target classes as even as possible, and another that has very few businesses and thus makes the target varible imbalanced.\n",
    "\n",
    "1. Create two classification models predicting these categories. Optimize the models and choose variables as you see fit.\n",
    "- Make confusion matrices for your models. Describe the confusion matrices and explain what they tell you about your models' performance.\n",
    "- Make ROC curves for both models. What do the ROC curves describe and what do they tell you about your model?\n",
    "- Make Precision-Recall curves for the models. What do they describe? How do they compare to the ROC curves?\n",
    "- Explain when Precision-Recall may be preferable to ROC. Is that the case in either of your models?"
   ]
  },
  {
   "cell_type": "code",
   "execution_count": 75,
   "metadata": {
    "collapsed": true
   },
   "outputs": [],
   "source": [
    "X = business_copy.drop(['name', 'latitude', 'longitude', 'neighborhoods', 'categories'], axis = 1)\n",
    "y = business_copy.city\n",
    "\n",
    "X_wide = X.pivot(index='business_id', columns='variable', values = 'value')\n",
    "X_wide = pd.DataFrame(X_wide)"
   ]
  },
  {
   "cell_type": "code",
   "execution_count": 86,
   "metadata": {
    "collapsed": false
   },
   "outputs": [],
   "source": [
    "X_wide = X_wide.astype(bool)"
   ]
  },
  {
   "cell_type": "code",
   "execution_count": 87,
   "metadata": {
    "collapsed": false,
    "scrolled": true
   },
   "outputs": [],
   "source": [
    "X_wide = X_wide.astype(int)\n"
   ]
  },
  {
   "cell_type": "code",
   "execution_count": 122,
   "metadata": {
    "collapsed": true
   },
   "outputs": [
    {
     "data": {
      "text/plain": [
       "Index([u'attributes.Accepts Credit Cards', u'attributes.Accepts Insurance',\n",
       "       u'attributes.Ages Allowed', u'attributes.Alcohol',\n",
       "       u'attributes.Ambience.casual', u'attributes.Ambience.classy',\n",
       "       u'attributes.Ambience.divey', u'attributes.Ambience.hipster',\n",
       "       u'attributes.Ambience.intimate', u'attributes.Ambience.romantic',\n",
       "       u'attributes.Ambience.touristy', u'attributes.Ambience.trendy',\n",
       "       u'attributes.Ambience.upscale', u'attributes.Attire',\n",
       "       u'attributes.BYOB', u'attributes.BYOB/Corkage',\n",
       "       u'attributes.By Appointment Only', u'attributes.Caters',\n",
       "       u'attributes.Coat Check', u'attributes.Corkage', u'attributes.Delivery',\n",
       "       u'attributes.Dietary Restrictions.dairy-free',\n",
       "       u'attributes.Dietary Restrictions.gluten-free',\n",
       "       u'attributes.Dietary Restrictions.halal',\n",
       "       u'attributes.Dietary Restrictions.kosher',\n",
       "       u'attributes.Dietary Restrictions.soy-free',\n",
       "       u'attributes.Dietary Restrictions.vegan',\n",
       "       u'attributes.Dietary Restrictions.vegetarian',\n",
       "       u'attributes.Dogs Allowed', u'attributes.Drive-Thru',\n",
       "       u'attributes.Good For Dancing', u'attributes.Good For Groups',\n",
       "       u'attributes.Good For.breakfast', u'attributes.Good For.brunch',\n",
       "       u'attributes.Good For.dessert', u'attributes.Good For.dinner',\n",
       "       u'attributes.Good For.latenight', u'attributes.Good For.lunch',\n",
       "       u'attributes.Good for Kids', u'attributes.Happy Hour',\n",
       "       u'attributes.Has TV', u'attributes.Music.background_music',\n",
       "       u'attributes.Music.dj', u'attributes.Music.jukebox',\n",
       "       u'attributes.Music.karaoke', u'attributes.Music.live',\n",
       "       u'attributes.Music.video', u'attributes.Noise Level',\n",
       "       u'attributes.Open 24 Hours', u'attributes.Order at Counter',\n",
       "       u'attributes.Outdoor Seating', u'attributes.Parking.garage',\n",
       "       u'attributes.Parking.lot', u'attributes.Parking.street',\n",
       "       u'attributes.Parking.valet', u'attributes.Parking.validated',\n",
       "       u'attributes.Price Range', u'attributes.Smoking',\n",
       "       u'attributes.Take-out', u'attributes.Takes Reservations',\n",
       "       u'attributes.Waiter Service', u'attributes.Wi-Fi', u'open'],\n",
       "      dtype='object', name=u'variable')"
      ]
     },
     "execution_count": 122,
     "metadata": {},
     "output_type": "execute_result"
    }
   ],
   "source": [
    "col = X_wide.columns\n",
    "count = []\n",
    "for item in col:\n",
    "    if not 'hours' in item:\n",
    "        count.append(item)\n",
    "col_cat = count\n",
    "X_wide = X_wide[col_cat]\n",
    "X_wide.columns"
   ]
  },
  {
   "cell_type": "code",
   "execution_count": 89,
   "metadata": {
    "collapsed": false
   },
   "outputs": [],
   "source": [
    "X_wide.to_csv(path_or_buf='/Users/Yemre/Desktop/DSI-SF-5_2_Local/projects/project-4/wide.csv')"
   ]
  },
  {
   "cell_type": "code",
   "execution_count": 142,
   "metadata": {
    "collapsed": false
   },
   "outputs": [],
   "source": [
    "#y1 = X_wide['attributes.Wheelchair Accessible']"
   ]
  },
  {
   "cell_type": "code",
   "execution_count": 91,
   "metadata": {
    "collapsed": true
   },
   "outputs": [],
   "source": [
    "col_for_predict = [u'attributes.Accepts Credit Cards', u'attributes.Accepts Insurance',\n",
    "       u'attributes.Ages Allowed', u'attributes.Alcohol',\n",
    "       u'attributes.Ambience.casual', u'attributes.Ambience.classy',\n",
    "       u'attributes.Ambience.divey', u'attributes.Ambience.hipster',\n",
    "       u'attributes.Ambience.intimate', u'attributes.Ambience.romantic',\n",
    "       u'attributes.Ambience.touristy', u'attributes.Ambience.trendy',\n",
    "       u'attributes.Ambience.upscale', u'attributes.Attire',\n",
    "       u'attributes.BYOB', u'attributes.BYOB/Corkage',\n",
    "       u'attributes.By Appointment Only', u'attributes.Caters',\n",
    "       u'attributes.Coat Check', u'attributes.Corkage', u'attributes.Delivery',\n",
    "       u'attributes.Dietary Restrictions.dairy-free',\n",
    "       u'attributes.Dietary Restrictions.gluten-free',\n",
    "       u'attributes.Dietary Restrictions.halal',\n",
    "       u'attributes.Dietary Restrictions.kosher',\n",
    "       u'attributes.Dietary Restrictions.soy-free',\n",
    "       u'attributes.Dietary Restrictions.vegan',\n",
    "       u'attributes.Dietary Restrictions.vegetarian',\n",
    "       u'attributes.Dogs Allowed', u'attributes.Drive-Thru',\n",
    "       u'attributes.Good For Dancing', u'attributes.Good For Groups',\n",
    "       u'attributes.Good For.breakfast', u'attributes.Good For.brunch',\n",
    "       u'attributes.Good For.dessert', u'attributes.Good For.dinner',\n",
    "       u'attributes.Good For.latenight', u'attributes.Good For.lunch',\n",
    "       u'attributes.Good for Kids', u'attributes.Happy Hour',\n",
    "       u'attributes.Has TV', u'attributes.Music.background_music',\n",
    "       u'attributes.Music.dj', u'attributes.Music.jukebox',\n",
    "       u'attributes.Music.karaoke', u'attributes.Music.live',\n",
    "       u'attributes.Music.video', u'attributes.Noise Level',\n",
    "       u'attributes.Open 24 Hours', u'attributes.Order at Counter',\n",
    "       u'attributes.Outdoor Seating', u'attributes.Parking.garage',\n",
    "       u'attributes.Parking.lot', u'attributes.Parking.street',\n",
    "       u'attributes.Parking.valet', u'attributes.Parking.validated',\n",
    "       u'attributes.Price Range', u'attributes.Smoking',\n",
    "       u'attributes.Take-out', u'attributes.Takes Reservations',\n",
    "       u'attributes.Waiter Service',\n",
    "       u'attributes.Wi-Fi', u'open']"
   ]
  },
  {
   "cell_type": "code",
   "execution_count": 92,
   "metadata": {
    "collapsed": true
   },
   "outputs": [],
   "source": [
    "X_wide = X_wide[col_for_predict]"
   ]
  },
  {
   "cell_type": "code",
   "execution_count": 95,
   "metadata": {
    "collapsed": false
   },
   "outputs": [
    {
     "name": "stdout",
     "output_type": "stream",
     "text": [
      "<class 'pandas.core.frame.DataFrame'>\n",
      "Index: 4132 entries, --jFTZmywe7StuZ2hEjxyA to zwHM6hz8swKIG-4-BSKMPA\n",
      "Data columns (total 63 columns):\n",
      "attributes.Accepts Credit Cards                4132 non-null int64\n",
      "attributes.Accepts Insurance                   4132 non-null int64\n",
      "attributes.Ages Allowed                        4132 non-null int64\n",
      "attributes.Alcohol                             4132 non-null int64\n",
      "attributes.Ambience.casual                     4132 non-null int64\n",
      "attributes.Ambience.classy                     4132 non-null int64\n",
      "attributes.Ambience.divey                      4132 non-null int64\n",
      "attributes.Ambience.hipster                    4132 non-null int64\n",
      "attributes.Ambience.intimate                   4132 non-null int64\n",
      "attributes.Ambience.romantic                   4132 non-null int64\n",
      "attributes.Ambience.touristy                   4132 non-null int64\n",
      "attributes.Ambience.trendy                     4132 non-null int64\n",
      "attributes.Ambience.upscale                    4132 non-null int64\n",
      "attributes.Attire                              4132 non-null int64\n",
      "attributes.BYOB                                4132 non-null int64\n",
      "attributes.BYOB/Corkage                        4132 non-null int64\n",
      "attributes.By Appointment Only                 4132 non-null int64\n",
      "attributes.Caters                              4132 non-null int64\n",
      "attributes.Coat Check                          4132 non-null int64\n",
      "attributes.Corkage                             4132 non-null int64\n",
      "attributes.Delivery                            4132 non-null int64\n",
      "attributes.Dietary Restrictions.dairy-free     4132 non-null int64\n",
      "attributes.Dietary Restrictions.gluten-free    4132 non-null int64\n",
      "attributes.Dietary Restrictions.halal          4132 non-null int64\n",
      "attributes.Dietary Restrictions.kosher         4132 non-null int64\n",
      "attributes.Dietary Restrictions.soy-free       4132 non-null int64\n",
      "attributes.Dietary Restrictions.vegan          4132 non-null int64\n",
      "attributes.Dietary Restrictions.vegetarian     4132 non-null int64\n",
      "attributes.Dogs Allowed                        4132 non-null int64\n",
      "attributes.Drive-Thru                          4132 non-null int64\n",
      "attributes.Good For Dancing                    4132 non-null int64\n",
      "attributes.Good For Groups                     4132 non-null int64\n",
      "attributes.Good For.breakfast                  4132 non-null int64\n",
      "attributes.Good For.brunch                     4132 non-null int64\n",
      "attributes.Good For.dessert                    4132 non-null int64\n",
      "attributes.Good For.dinner                     4132 non-null int64\n",
      "attributes.Good For.latenight                  4132 non-null int64\n",
      "attributes.Good For.lunch                      4132 non-null int64\n",
      "attributes.Good for Kids                       4132 non-null int64\n",
      "attributes.Happy Hour                          4132 non-null int64\n",
      "attributes.Has TV                              4132 non-null int64\n",
      "attributes.Music.background_music              4132 non-null int64\n",
      "attributes.Music.dj                            4132 non-null int64\n",
      "attributes.Music.jukebox                       4132 non-null int64\n",
      "attributes.Music.karaoke                       4132 non-null int64\n",
      "attributes.Music.live                          4132 non-null int64\n",
      "attributes.Music.video                         4132 non-null int64\n",
      "attributes.Noise Level                         4132 non-null int64\n",
      "attributes.Open 24 Hours                       4132 non-null int64\n",
      "attributes.Order at Counter                    4132 non-null int64\n",
      "attributes.Outdoor Seating                     4132 non-null int64\n",
      "attributes.Parking.garage                      4132 non-null int64\n",
      "attributes.Parking.lot                         4132 non-null int64\n",
      "attributes.Parking.street                      4132 non-null int64\n",
      "attributes.Parking.valet                       4132 non-null int64\n",
      "attributes.Parking.validated                   4132 non-null int64\n",
      "attributes.Price Range                         4132 non-null int64\n",
      "attributes.Smoking                             4132 non-null int64\n",
      "attributes.Take-out                            4132 non-null int64\n",
      "attributes.Takes Reservations                  4132 non-null int64\n",
      "attributes.Waiter Service                      4132 non-null int64\n",
      "attributes.Wi-Fi                               4132 non-null int64\n",
      "open                                           4132 non-null int64\n",
      "dtypes: int64(63)\n",
      "memory usage: 2.0+ MB\n"
     ]
    }
   ],
   "source": [
    "X_wide.info()"
   ]
  },
  {
   "cell_type": "code",
   "execution_count": 98,
   "metadata": {
    "collapsed": false
   },
   "outputs": [],
   "source": [
    "\n",
    "X1 = mms.fit_transform(X1)"
   ]
  },
  {
   "cell_type": "code",
   "execution_count": 99,
   "metadata": {
    "collapsed": true
   },
   "outputs": [],
   "source": [
    "y2 = X_wide['attributes.Music.live']"
   ]
  },
  {
   "cell_type": "code",
   "execution_count": 102,
   "metadata": {
    "collapsed": true
   },
   "outputs": [],
   "source": [
    "col_imbalanced = [u'attributes.Accepts Credit Cards', u'attributes.Accepts Insurance',\n",
    "       u'attributes.Ages Allowed', u'attributes.Alcohol',\n",
    "       u'attributes.Ambience.casual', u'attributes.Ambience.classy',\n",
    "       u'attributes.Ambience.divey', u'attributes.Ambience.hipster',\n",
    "       u'attributes.Ambience.intimate', u'attributes.Ambience.romantic',\n",
    "       u'attributes.Ambience.touristy', u'attributes.Ambience.trendy',\n",
    "       u'attributes.Ambience.upscale', u'attributes.Attire',\n",
    "       u'attributes.BYOB', u'attributes.BYOB/Corkage',\n",
    "       u'attributes.By Appointment Only', u'attributes.Caters',\n",
    "       u'attributes.Coat Check', u'attributes.Corkage', u'attributes.Delivery',\n",
    "       u'attributes.Dietary Restrictions.dairy-free',\n",
    "       u'attributes.Dietary Restrictions.gluten-free',\n",
    "       u'attributes.Dietary Restrictions.halal',\n",
    "       u'attributes.Dietary Restrictions.kosher',\n",
    "       u'attributes.Dietary Restrictions.soy-free',\n",
    "       u'attributes.Dietary Restrictions.vegan',\n",
    "       u'attributes.Dietary Restrictions.vegetarian',\n",
    "       u'attributes.Dogs Allowed', u'attributes.Drive-Thru',\n",
    "       u'attributes.Good For Dancing', u'attributes.Good For Groups',\n",
    "       u'attributes.Good For.breakfast', u'attributes.Good For.brunch',\n",
    "       u'attributes.Good For.dessert', u'attributes.Good For.dinner',\n",
    "       u'attributes.Good For.latenight', u'attributes.Good For.lunch',\n",
    "       u'attributes.Good for Kids', u'attributes.Happy Hour',\n",
    "       u'attributes.Has TV', u'attributes.Music.background_music',\n",
    "       u'attributes.Music.dj', u'attributes.Music.jukebox',\n",
    "       u'attributes.Music.karaoke', \n",
    "       u'attributes.Music.video', u'attributes.Noise Level',\n",
    "       u'attributes.Open 24 Hours', u'attributes.Order at Counter',\n",
    "       u'attributes.Outdoor Seating', u'attributes.Parking.garage',\n",
    "       u'attributes.Parking.lot', u'attributes.Parking.street',\n",
    "       u'attributes.Parking.valet', u'attributes.Parking.validated',\n",
    "       u'attributes.Price Range', u'attributes.Smoking',\n",
    "       u'attributes.Take-out', u'attributes.Takes Reservations',\n",
    "       u'attributes.Waiter Service',\n",
    "       u'attributes.Wi-Fi', u'open']"
   ]
  },
  {
   "cell_type": "code",
   "execution_count": 209,
   "metadata": {
    "collapsed": false
   },
   "outputs": [],
   "source": [
    "X2 = X_wide[col_imbalanced]"
   ]
  },
  {
   "cell_type": "code",
   "execution_count": 210,
   "metadata": {
    "collapsed": false
   },
   "outputs": [
    {
     "name": "stdout",
     "output_type": "stream",
     "text": [
      "0.725073313783\n"
     ]
    },
    {
     "data": {
      "text/plain": [
       "array([ 0.72826087,  0.71912833,  0.72276029,  0.7409201 ,  0.74818402])"
      ]
     },
     "execution_count": 210,
     "metadata": {},
     "output_type": "execute_result"
    }
   ],
   "source": [
    "Xl_train, Xl_test, yl_train, yl_test = train_test_split(X1, y1, test_size = .33, random_state = 3)\n",
    "\n",
    "lasso = LogisticRegression(penalty=\"l1\")\n",
    "\n",
    "lasso.fit(Xl_train,yl_train)\n",
    "\n",
    "print lasso.score(Xl_test,yl_test)\n",
    "cross_val_score(lasso,X1,y1,cv=5)"
   ]
  },
  {
   "cell_type": "code",
   "execution_count": 211,
   "metadata": {
    "collapsed": false
   },
   "outputs": [
    {
     "data": {
      "text/html": [
       "<div>\n",
       "<table border=\"1\" class=\"dataframe\">\n",
       "  <thead>\n",
       "    <tr style=\"text-align: right;\">\n",
       "      <th>Predicted</th>\n",
       "      <th>0</th>\n",
       "      <th>1</th>\n",
       "      <th>All</th>\n",
       "    </tr>\n",
       "    <tr>\n",
       "      <th>Actual</th>\n",
       "      <th></th>\n",
       "      <th></th>\n",
       "      <th></th>\n",
       "    </tr>\n",
       "  </thead>\n",
       "  <tbody>\n",
       "    <tr>\n",
       "      <th>0</th>\n",
       "      <td>191</td>\n",
       "      <td>550</td>\n",
       "      <td>741</td>\n",
       "    </tr>\n",
       "    <tr>\n",
       "      <th>1</th>\n",
       "      <td>169</td>\n",
       "      <td>454</td>\n",
       "      <td>623</td>\n",
       "    </tr>\n",
       "    <tr>\n",
       "      <th>All</th>\n",
       "      <td>360</td>\n",
       "      <td>1004</td>\n",
       "      <td>1364</td>\n",
       "    </tr>\n",
       "  </tbody>\n",
       "</table>\n",
       "</div>"
      ],
      "text/plain": [
       "Predicted    0     1   All\n",
       "Actual                    \n",
       "0          191   550   741\n",
       "1          169   454   623\n",
       "All        360  1004  1364"
      ]
     },
     "execution_count": 211,
     "metadata": {},
     "output_type": "execute_result"
    }
   ],
   "source": [
    "pd.crosstab(yl_test,yl_hat, rownames=['Actual'], colnames=['Predicted'], margins=True)"
   ]
  },
  {
   "cell_type": "code",
   "execution_count": 212,
   "metadata": {
    "collapsed": false
   },
   "outputs": [
    {
     "data": {
      "text/plain": [
       "{1: array([ 0.00160514,  0.01284109,  0.01284109,  0.01926164,  0.02086677,\n",
       "         0.02086677,  0.02728732,  0.03049759,  0.03691814,  0.04173355,\n",
       "         0.11075441,  0.11235955,  0.17335474,  0.18298555,  0.18298555,\n",
       "         0.19422151,  0.19422151,  0.19422151,  0.19582665,  0.19582665,\n",
       "         0.19743178,  0.19743178,  0.19903692,  0.19903692,  0.20064205,\n",
       "         0.20224719,  0.20385233,  0.20385233,  0.20545746,  0.20866774,\n",
       "         0.20866774,  0.21669342,  0.2247191 ,  0.22632424,  0.23756019,\n",
       "         0.25361156,  0.25361156,  0.25682183,  0.25842697,  0.27608347,\n",
       "         0.28571429,  0.28731942,  0.2905297 ,  0.2905297 ,  0.29373997,\n",
       "         0.31139647,  0.31300161,  0.31300161,  0.31300161,  0.3611557 ,\n",
       "         0.37239165,  0.37239165,  0.37399679,  0.37560193,  0.37560193,\n",
       "         0.40770465,  0.40770465,  0.40930979,  0.41091493,  0.41091493,\n",
       "         0.41091493,  0.41091493,  0.41252006,  0.4141252 ,  0.4141252 ,\n",
       "         0.41573034,  0.41573034,  0.41573034,  0.41573034,  0.41733547,\n",
       "         0.41733547,  0.41894061,  0.41894061,  0.43980738,  0.44141252,\n",
       "         0.44301766,  0.44301766,  0.44622793,  0.44622793,  0.44622793,\n",
       "         0.45425361,  0.45585875,  0.45585875,  0.45906902,  0.46067416,\n",
       "         0.4670947 ,  0.47030498,  0.47030498,  0.47833066,  0.47833066,\n",
       "         0.47833066,  0.48154093,  0.48314607,  0.48314607,  0.48314607,\n",
       "         0.48314607,  0.59871589,  0.60192616,  0.60192616,  0.60192616,\n",
       "         0.62279294,  0.62279294,  0.62279294,  0.62439807,  0.62439807,\n",
       "         0.91813804,  0.91813804,  0.92616372,  0.929374  ,  0.99678973,\n",
       "         0.99678973,  1.        ,  1.        ,  1.        ,  1.        ])}"
      ]
     },
     "execution_count": 212,
     "metadata": {},
     "output_type": "execute_result"
    }
   ],
   "source": [
    "import numpy as np\n",
    "from sklearn import metrics\n",
    "y = np.array([1, 1, 2, 2])\n",
    "scores = np.array([0.1, 0.4, 0.35, 0.8])\n",
    "FPR = dict()\n",
    "TPR = dict()\n",
    "ROC_AUC = dict()\n",
    "FPR[1], TPR[1], _  = metrics.roc_curve(yl_test, probabilities[:, 1])\n",
    "TPR"
   ]
  },
  {
   "cell_type": "code",
   "execution_count": 213,
   "metadata": {
    "collapsed": false
   },
   "outputs": [
    {
     "data": {
      "image/png": "[encoded data removed]",
      "text/plain": [
       "<matplotlib.figure.Figure at 0x11803b9d0>"
      ]
     },
     "metadata": {
      "image/png": {
       "height": 559,
       "width": 751
      }
     },
     "output_type": "display_data"
    }
   ],
   "source": [
    "ROC_AUC[1] = metrics.auc(FPR[1], TPR[1])\n",
    "\n",
    "# [insert explanation of this section -- what is being plotted?  Which elements are data driven?  Which elements are purely visual?]\n",
    "plt.figure(figsize=[11,9])\n",
    "plt.plot(FPR[1], TPR[1], label='ROC curve (area = %0.2f)' % ROC_AUC[1], linewidth=4)\n",
    "plt.plot([0, 1], [0, 1], 'k--', linewidth=4)\n",
    "plt.xlim([0.0, 1.0])\n",
    "plt.ylim([0.0, 1.05])\n",
    "plt.xlabel('False Positive Rate', fontsize=18)\n",
    "plt.ylabel('True Positive Rate', fontsize=18)\n",
    "plt.title('Receiver operating characteristic ', fontsize=18)\n",
    "plt.legend(loc=\"lower right\")\n",
    "plt.show()"
   ]
  },
  {
   "cell_type": "code",
   "execution_count": 214,
   "metadata": {
    "collapsed": false
   },
   "outputs": [
    {
     "data": {
      "text/plain": [
       "<matplotlib.text.Text at 0x11ec19210>"
      ]
     },
     "execution_count": 214,
     "metadata": {},
     "output_type": "execute_result"
    },
    {
     "data": {
      "image/png": "[encoded data removed]",
      "text/plain": [
       "<matplotlib.figure.Figure at 0x118053390>"
      ]
     },
     "metadata": {
      "image/png": {
       "height": 263,
       "width": 426
      }
     },
     "output_type": "display_data"
    }
   ],
   "source": [
    "precision, recall, thresholds = precision_recall_curve(yl_test,probas_pred=lasso.decision_function(Xl_test))\n",
    "\n",
    "plt.plot(recall,precision)\n",
    "plt.xlabel('Recall')\n",
    "plt.ylabel('Precision')"
   ]
  },
  {
   "cell_type": "markdown",
   "metadata": {},
   "source": [
    "## Second Model"
   ]
  },
  {
   "cell_type": "code",
   "execution_count": 161,
   "metadata": {
    "collapsed": false
   },
   "outputs": [
    {
     "name": "stdout",
     "output_type": "stream",
     "text": [
      "0.986803519062\n"
     ]
    },
    {
     "data": {
      "text/plain": [
       "array([-4.58294882, -5.83930267, -5.58819921, ..., -3.45291527,\n",
       "       -3.01291685,  8.71482657])"
      ]
     },
     "execution_count": 161,
     "metadata": {},
     "output_type": "execute_result"
    }
   ],
   "source": [
    "Xl_train, Xl_test, yl_train, yl_test = train_test_split(X2, y2, test_size = .33, random_state = 3)\n",
    "\n",
    "lasso = LogisticRegression(penalty=\"l1\")\n",
    "\n",
    "lasso.fit(Xl_train,yl_train)\n",
    "probabilities = lasso.predict_proba(Xl_test)\n",
    "y1_hat = lasso.predict(Xl_test)\n",
    "print lasso.score(Xl_test,yl_test)\n",
    "cross_val_score(lasso,X2,y2,cv=5)\n",
    "lasso.decision_function(Xl_test)"
   ]
  },
  {
   "cell_type": "code",
   "execution_count": 162,
   "metadata": {
    "collapsed": false
   },
   "outputs": [
    {
     "data": {
      "text/html": [
       "<div>\n",
       "<table border=\"1\" class=\"dataframe\">\n",
       "  <thead>\n",
       "    <tr style=\"text-align: right;\">\n",
       "      <th>Predicted</th>\n",
       "      <th>0</th>\n",
       "      <th>1</th>\n",
       "      <th>All</th>\n",
       "    </tr>\n",
       "    <tr>\n",
       "      <th>Actual</th>\n",
       "      <th></th>\n",
       "      <th></th>\n",
       "      <th></th>\n",
       "    </tr>\n",
       "  </thead>\n",
       "  <tbody>\n",
       "    <tr>\n",
       "      <th>0</th>\n",
       "      <td>302</td>\n",
       "      <td>848</td>\n",
       "      <td>1150</td>\n",
       "    </tr>\n",
       "    <tr>\n",
       "      <th>1</th>\n",
       "      <td>58</td>\n",
       "      <td>156</td>\n",
       "      <td>214</td>\n",
       "    </tr>\n",
       "    <tr>\n",
       "      <th>All</th>\n",
       "      <td>360</td>\n",
       "      <td>1004</td>\n",
       "      <td>1364</td>\n",
       "    </tr>\n",
       "  </tbody>\n",
       "</table>\n",
       "</div>"
      ],
      "text/plain": [
       "Predicted    0     1   All\n",
       "Actual                    \n",
       "0          302   848  1150\n",
       "1           58   156   214\n",
       "All        360  1004  1364"
      ]
     },
     "execution_count": 162,
     "metadata": {},
     "output_type": "execute_result"
    }
   ],
   "source": [
    "pd.crosstab(yl_test,yl_hat, rownames=['Actual'], colnames=['Predicted'], margins=True)\n"
   ]
  },
  {
   "cell_type": "code",
   "execution_count": 166,
   "metadata": {
    "collapsed": false
   },
   "outputs": [
    {
     "data": {
      "text/plain": [
       "{1: array([ 0.0046729 ,  0.03738318,  0.04205607,  0.06542056,  0.07476636,\n",
       "         0.09345794,  0.10280374,  0.14018692,  0.15420561,  0.45794393,\n",
       "         0.46261682,  0.75233645,  0.79439252,  0.80373832,  0.8364486 ,\n",
       "         0.84579439,  0.89719626,  0.90654206,  0.92056075,  0.92056075,\n",
       "         0.92990654,  0.92990654,  0.92990654,  0.92990654,  0.95794393,\n",
       "         0.95794393,  0.95794393,  0.95794393,  0.95794393,  0.98598131,\n",
       "         0.99065421,  0.99065421,  0.99065421,  0.99065421,  0.99065421,\n",
       "         0.99065421,  0.99065421,  0.99065421,  0.99065421,  0.99065421,\n",
       "         0.99065421,  0.99065421,  0.99065421,  0.99065421,  0.99065421,\n",
       "         0.99065421,  0.99065421,  0.99065421,  0.99065421,  0.99065421,\n",
       "         0.99065421,  0.99065421,  1.        ,  1.        ,  1.        ,\n",
       "         1.        ,  1.        ,  1.        ,  1.        ,  1.        ,\n",
       "         1.        ,  1.        ,  1.        ,  1.        ,  1.        ,\n",
       "         1.        ,  1.        ,  1.        ,  1.        ,  1.        ,\n",
       "         1.        ,  1.        ,  1.        ,  1.        ,  1.        ,\n",
       "         1.        ,  1.        ,  1.        ,  1.        ,  1.        ,\n",
       "         1.        ,  1.        ,  1.        ,  1.        ,  1.        ,\n",
       "         1.        ,  1.        ,  1.        ,  1.        ,  1.        ,\n",
       "         1.        ,  1.        ,  1.        ,  1.        ,  1.        ,\n",
       "         1.        ,  1.        ,  1.        ])}"
      ]
     },
     "execution_count": 166,
     "metadata": {},
     "output_type": "execute_result"
    }
   ],
   "source": [
    "import numpy as np\n",
    "from sklearn import metrics\n",
    "y = np.array([1, 1, 2, 2])\n",
    "scores = np.array([0.1, 0.4, 0.35, 0.8])\n",
    "FPR = dict()\n",
    "TPR = dict()\n",
    "ROC_AUC = dict()\n",
    "FPR[1], TPR[1], _  = metrics.roc_curve(yl_test, probabilities[:, 1])\n",
    "TPR"
   ]
  },
  {
   "cell_type": "code",
   "execution_count": 168,
   "metadata": {
    "collapsed": false
   },
   "outputs": [
    {
     "data": {
      "image/png": "[encoded data removed]",
      "text/plain": [
       "<matplotlib.figure.Figure at 0x113d6b3d0>"
      ]
     },
     "metadata": {
      "image/png": {
       "height": 559,
       "width": 751
      }
     },
     "output_type": "display_data"
    }
   ],
   "source": [
    "\n",
    "\n",
    "# [insert explanation of this section]\n",
    "#FPR[1], TPR[1], _ = roc_curve(y, probabilities[:, 1])\n",
    "ROC_AUC[1] = metrics.auc(FPR[1], TPR[1])\n",
    "\n",
    "# [insert explanation of this section -- what is being plotted?  Which elements are data driven?  Which elements are purely visual?]\n",
    "plt.figure(figsize=[11,9])\n",
    "plt.plot(FPR[1], TPR[1], label='ROC curve (area = %0.2f)' % ROC_AUC[1], linewidth=4)\n",
    "plt.plot([0, 1], [0, 1], 'k--', linewidth=4)\n",
    "plt.xlim([0.0, 1.0])\n",
    "plt.ylim([0.0, 1.05])\n",
    "plt.xlabel('False Positive Rate', fontsize=18)\n",
    "plt.ylabel('True Positive Rate', fontsize=18)\n",
    "plt.title('Receiver operating characteristic ', fontsize=18)\n",
    "plt.legend(loc=\"lower right\")\n",
    "plt.show()"
   ]
  },
  {
   "cell_type": "code",
   "execution_count": 199,
   "metadata": {
    "collapsed": false
   },
   "outputs": [
    {
     "ename": "AttributeError",
     "evalue": "'LogisticRegression' object has no attribute 'p'",
     "output_type": "error",
     "traceback": [
      "\u001b[0;31m---------------------------------------------------------------------------\u001b[0m",
      "\u001b[0;31mAttributeError\u001b[0m                            Traceback (most recent call last)",
      "\u001b[0;32m<ipython-input-199-17b91db2e856>\u001b[0m in \u001b[0;36m<module>\u001b[0;34m()\u001b[0m\n\u001b[1;32m     14\u001b[0m \u001b[0;31m# Split into training and test\u001b[0m\u001b[0;34m\u001b[0m\u001b[0;34m\u001b[0m\u001b[0m\n\u001b[1;32m     15\u001b[0m \u001b[0mX_train\u001b[0m\u001b[0;34m,\u001b[0m \u001b[0mX_test\u001b[0m\u001b[0;34m,\u001b[0m \u001b[0my_train\u001b[0m\u001b[0;34m,\u001b[0m \u001b[0my_test\u001b[0m \u001b[0;34m=\u001b[0m \u001b[0mtrain_test_split\u001b[0m\u001b[0;34m(\u001b[0m\u001b[0mX2\u001b[0m\u001b[0;34m,\u001b[0m \u001b[0my2\u001b[0m\u001b[0;34m,\u001b[0m \u001b[0mtest_size\u001b[0m \u001b[0;34m=\u001b[0m \u001b[0;36m.33\u001b[0m\u001b[0;34m,\u001b[0m \u001b[0mrandom_state\u001b[0m \u001b[0;34m=\u001b[0m \u001b[0;36m3\u001b[0m\u001b[0;34m)\u001b[0m\u001b[0;34m\u001b[0m\u001b[0m\n\u001b[0;32m---> 16\u001b[0;31m \u001b[0mlasso\u001b[0m\u001b[0;34m.\u001b[0m\u001b[0mp\u001b[0m\u001b[0;34m\u001b[0m\u001b[0m\n\u001b[0m\u001b[1;32m     17\u001b[0m \u001b[0;31m# Run classifier\u001b[0m\u001b[0;34m\u001b[0m\u001b[0;34m\u001b[0m\u001b[0m\n\u001b[1;32m     18\u001b[0m \u001b[0;31m#classifier = OneVsRestClassifier(svm.SVC(kernel='linear', probability=True,\u001b[0m\u001b[0;34m\u001b[0m\u001b[0;34m\u001b[0m\u001b[0m\n",
      "\u001b[0;31mAttributeError\u001b[0m: 'LogisticRegression' object has no attribute 'p'"
     ]
    }
   ],
   "source": [
    "import matplotlib.pyplot as plt\n",
    "import numpy as np\n",
    "from itertools import cycle\n",
    "\n",
    "from sklearn import svm, datasets\n",
    "from sklearn.metrics import precision_recall_curve\n",
    "from sklearn.metrics import average_precision_score\n",
    "from sklearn.model_selection import train_test_split\n",
    "from sklearn.preprocessing import label_binarize\n",
    "from sklearn.multiclass import OneVsRestClassifier\n",
    "from sklearn.metrics import precision_recall_curve\n",
    "\n",
    "y2 = label_binarize(y2, classes=[0, 1])\n",
    "# Split into training and test\n",
    "X_train, X_test, y_train, y_test = train_test_split(X2, y2, test_size = .33, random_state = 3)\n",
    "# Run classifier\n",
    "#classifier = OneVsRestClassifier(svm.SVC(kernel='linear', probability=True,\n",
    "#                                 random_state=random_state))\n",
    "y_score = lasso.fit(X_train, y_train).decision_function(X_test)"
   ]
  },
  {
   "cell_type": "code",
   "execution_count": 208,
   "metadata": {
    "collapsed": false
   },
   "outputs": [
    {
     "data": {
      "text/plain": [
       "<matplotlib.text.Text at 0x11d373d50>"
      ]
     },
     "execution_count": 208,
     "metadata": {},
     "output_type": "execute_result"
    },
    {
     "data": {
      "image/png": "[encoded data removed]",
      "text/plain": [
       "<matplotlib.figure.Figure at 0x11d3b03d0>"
      ]
     },
     "metadata": {
      "image/png": {
       "height": 263,
       "width": 426
      }
     },
     "output_type": "display_data"
    }
   ],
   "source": [
    "precision, recall, thresholds = precision_recall_curve(yl_test,probas_pred=lasso.decision_function(Xl_test))\n",
    "\n",
    "plt.plot(recall,precision)\n",
    "plt.xlabel('Recall')\n",
    "plt.ylabel('Precision')"
   ]
  },
  {
   "cell_type": "markdown",
   "metadata": {
    "collapsed": true
   },
   "source": [
    "## OOP, Stochastic Gradient Descent, and Linear Algebra\n",
    "\n",
    "---\n",
    "\n",
    "In this part of the project, you will implement machine learning algorithms we have covered in class from scratch. \n",
    "\n",
    "--- "
   ]
  },
  {
   "cell_type": "markdown",
   "metadata": {},
   "source": [
    "<img src=\"http://imgur.com/GCAf1UX.png\" style=\"float: left; margin: 25px 15px 0px 0px; height: 25px\">\n",
    "\n",
    "### 6. Implement the `LinearRegrssion` class using Stochastic Gradient Descent to include the following: \n",
    "\n",
    "- An option to regularize the model with Ridge Regression. The method should automatically calculate the best `alpha` for the user. The closed form solution for Ridge Regression may be helpful [Hint: Think of the `n_alphas` parameter in sklearn]\n",
    "\n",
    "\n",
    "Protip: Compare if your implemenation works by applying it on the Diabetes Dataset and seeing it how it compares to opensource implemenations in `sklearn` and `statsmodels`. \n",
    "\n",
    "http://statsmodels.sourceforge.net/devel/examples/#regression\n",
    "\n",
    "http://scikit-learn.org/stable/auto_examples/linear_model/plot_ols.html"
   ]
  },
  {
   "cell_type": "markdown",
   "metadata": {},
   "source": [
    "<img src=\"http://imgur.com/GCAf1UX.png\" style=\"float: left; margin: 25px 15px 0px 0px; height: 25px\">\n",
    "\n",
    "### 7. Extend the Binary `LogisticRegression` model to implement Multi-class classification that fits the model using Stochastic Gradient Descent. Include the following : \n",
    "\n",
    "- Use the program we coded in class that implemented Logistic regression for Binary classification and extend it to implement Multi-class classification \n",
    "  - [Binary Logistic regression program](https://github.com/ga-students/DSI-SF-5/blob/master/curriculum/week-04/logistic_regression/Logistic_regression.py)\n",
    "\n",
    "- An option to regularize the model with Ridge Regression. The method should automatically calculate the best `alpha` for the user. The closed form solution for Ridge Regression may be helpful [Hint: Think of the `n_alphas` parameter in sklear\n",
    "\n",
    "Check if the results of your `LogisticRegression` implementation matches with the Sklearn implementation: http://scikit-learn.org/stable/modules/generated/sklearn.linear_model.LogisticRegression.html"
   ]
  },
  {
   "cell_type": "markdown",
   "metadata": {},
   "source": [
    "<img src=\"http://imgur.com/GCAf1UX.png\" style=\"float: left; margin: 25px 15px 0px 0px; height: 25px\">\n",
    "### 8. Singular Value Decomposition \n",
    "\n",
    "- Read articles on image compression with SVD and use `numpy` apply it to images from the MNIST Datasets. To get the MNIST Datset, use the following comands. Note that the `mnist` data has shape `(70000, 784)`. You will need to convert it to 28x28 images [Hint: `np.reshape`]. \n",
    "       \n",
    "       from sklearn.datasets import fetch_mldata\n",
    "       mnist = fetch_mldata('MNIST original', data_home=custom_data_home)\n",
    "\n",
    "    https://inst.eecs.berkeley.edu/~ee127a/book/login/l_svd_apps_image.html\n",
    "\n",
    "    http://www.frankcleary.com/svdimage/\n",
    "    \n",
    "    \n",
    "- Apply Logistic Regression to classify MNIST Images. This may require having the images be `784` dimensions rather than `28x28`. Compare results of the classifier on a test set when you apply it on the raw dataset vs. the compressed version of dataset from SVD. "
   ]
  },
  {
   "cell_type": "code",
   "execution_count": 109,
   "metadata": {
    "collapsed": true
   },
   "outputs": [],
   "source": [
    "from sklearn.datasets import fetch_mldata"
   ]
  },
  {
   "cell_type": "code",
   "execution_count": 141,
   "metadata": {
    "collapsed": false
   },
   "outputs": [],
   "source": [
    "#mnist = fetch_mldata('MNIST original')"
   ]
  },
  {
   "cell_type": "code",
   "execution_count": null,
   "metadata": {
    "collapsed": true
   },
   "outputs": [],
   "source": [
    "### Counldnt load the data, my pc was running it for ever \n",
    "#and got really hot "
   ]
  },
  {
   "cell_type": "markdown",
   "metadata": {},
   "source": [
    "## Optional: Interview Practice"
   ]
  },
  {
   "cell_type": "markdown",
   "metadata": {},
   "source": [
    "## Coding Questions \n",
    "- Implement Binary Search in Python and write down the algorithmic complexity of the Binary Search Algorithm.\n",
    "\n",
    "\n",
    "- Implement Merge Sort in Python [Hint: First implement the `merge` function that combines two sorted arrays into one sorted array linear time]. What is the time complexity of `mergesort` ?\n",
    "\n",
    "\n",
    "- Find the closest pair from two sorted arrays. Given two sorted arrays and a number x, find the pair whose sum is closest to x and the pair has an element from each array. We are given two arrays ar1[0…m-1] and ar2[0..n-1] and a number x, we need to find the pair ar1[i] + ar2[j] such that absolute value of (ar1[i] + ar2[j] – x) is minimum. What is the time complexity of this algorithm?"
   ]
  },
  {
   "cell_type": "code",
   "execution_count": 115,
   "metadata": {
    "collapsed": false
   },
   "outputs": [],
   "source": [
    "def bin_search(lst,num):\n",
    "    \n",
    "    if not lst:\n",
    "        \n",
    "        mid_point = len(lst)/2\n",
    "            \n",
    "        if lst[mid_point] == num:\n",
    "            return True\n",
    "        elif lst[mid_point] < num:\n",
    "            return bin_search(lst[:mid_point],num)\n",
    "        elif lst[mid_point] > num:\n",
    "            return bin_search(lst[mid_point+1:],num)\n",
    "#Complexity is O(longn)"
   ]
  },
  {
   "cell_type": "code",
   "execution_count": 117,
   "metadata": {
    "collapsed": true
   },
   "outputs": [],
   "source": [
    "def merge(left, right):\n",
    "    if not len(left) or not len(right):\n",
    "        return left or right\n",
    "\n",
    "    result = []\n",
    "    i, j = 0, 0\n",
    "    while (len(result) < len(left) + len(right)):\n",
    "        if left[i] < right[j]:\n",
    "            result.append(left[i])\n",
    "            i+= 1\n",
    "        else:\n",
    "            result.append(right[j])\n",
    "            j+= 1\n",
    "        if i == len(left) or j == len(right):\n",
    "            result.extend(left[i:] or right[j:])\n",
    "            break \n",
    "\n",
    "    return result\n",
    "\n",
    "def mergesort(list):\n",
    "    if len(list) < 2:\n",
    "        return list\n",
    "\n",
    "    middle = len(list)/2\n",
    "    left = mergesort(list[:middle])\n",
    "    right = mergesort(list[middle:])\n",
    "\n",
    "    return merge(left, right)\n",
    "\n"
   ]
  },
  {
   "cell_type": "code",
   "execution_count": 140,
   "metadata": {
    "collapsed": false
   },
   "outputs": [
    {
     "name": "stdout",
     "output_type": "stream",
     "text": [
      "(3, [1, 4])\n"
     ]
    }
   ],
   "source": [
    "def close_point(arr1,arr2,num):\n",
    "    pair = []\n",
    "    minn = 9999\n",
    "    for item1 in arr1:\n",
    "        for item2 in arr2:\n",
    "            if abs(item1+item2-num ) < minn:\n",
    "                minn = abs(item1+item2-num)\n",
    "                pair = [item1,item2]\n",
    "    return minn,pair\n",
    "\n",
    "arr1 = [1,3,6,7,9]\n",
    "arr2 = [4,66,77,99]\n",
    "\n",
    "print close_point(arr1,arr2,2)"
   ]
  },
  {
   "cell_type": "markdown",
   "metadata": {},
   "source": [
    "### Complexity is O(n^2)"
   ]
  },
  {
   "cell_type": "markdown",
   "metadata": {},
   "source": [
    "## Probability  and Statistics Questions \n",
    "\n",
    "- In any 15-minute interval, there is a 20% probability that you will see at least one shooting star. What is the probability that you see at least one shooting star in the period of an hour?\n",
    "\n",
    "## %80\n",
    "\n",
    "- A certain couple tells you that they have two children, at least one of which is a girl. What is the probability that they have two girls?\n",
    "\n",
    "## %25\n"
   ]
  },
  {
   "cell_type": "markdown",
   "metadata": {},
   "source": [
    "## Interview Questions Related to Material\n",
    "\n",
    "- Explain what is bias-variance tradeoff to a non-technical person. Why is it a useful framework? How do you detect bias in your models? How about you variance? \n",
    "\n",
    "### I would use the dart example! If they hit the middle and they are all close thats low var and bias. If they hit off the middle but all close, thats high bias and low var. Close to middle but all over the place low bias high var. Far away from the middle and all over, high bias and high var.\n",
    "\n",
    "### If we are getting wrong regardless the dataset then high bias, but it is good for one data set it is low var.\n",
    "\n",
    "- Explain why cross-validation is important. \n",
    "\n",
    "### To see if our model var overfitting\n",
    "\n",
    "- What is regularization? What are the advantages/disadvantages of different types of regularization schemes? \n",
    "\n",
    "### To penalize the wrong estiamtion. Lasso would get rid of some of the fature and ridge wouldnt but try to optimize. We shouldnt really use lasso if we dont have much feature\n",
    "\n",
    "- What are the loss functions associated with linear regression, logistic regression, and KNN? \n",
    "\n",
    "### Linear Regression, we have the residual and logistic, we have the mean of the sum of the yi*log(pi) + (1-yi)*log(1-pi). KNN we dont have one other then minimazing the distance function to determine the number if neighbour.\n",
    "\n",
    "- Can you give examples of feature engineering on datasets you have worked with? \n",
    "\n",
    "### To multiply num of bedrooms with number of bathroom would increase the emphasis on those features and would be helpful to get a better model trained"
   ]
  },
  {
   "cell_type": "code",
   "execution_count": null,
   "metadata": {
    "collapsed": true
   },
   "outputs": [],
   "source": []
  }
 ],
 "metadata": {
  "anaconda-cloud": {},
  "kernelspec": {
   "display_name": "Python [conda env:dsi]",
   "language": "python",
   "name": "conda-env-dsi-py"
  },
  "language_info": {
   "codemirror_mode": {
    "name": "ipython",
    "version": 2
   },
   "file_extension": ".py",
   "mimetype": "text/x-python",
   "name": "python",
   "nbconvert_exporter": "python",
   "pygments_lexer": "ipython2",
   "version": "2.7.12"
  }
 },
 "nbformat": 4,
 "nbformat_minor": 0
}
