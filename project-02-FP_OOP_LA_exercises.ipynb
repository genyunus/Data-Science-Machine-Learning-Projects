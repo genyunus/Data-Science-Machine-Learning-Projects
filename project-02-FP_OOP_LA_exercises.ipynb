{
 "cells": [
  {
   "cell_type": "markdown",
   "metadata": {},
   "source": [
    "# Functional & Object Oriented Programming "
   ]
  },
  {
   "cell_type": "markdown",
   "metadata": {},
   "source": [
    "### Functional Programming in Python\n",
    "In class, we briefly explored the Functional Programming in Python through lambda functions, map, filter, iterators, generators, and deocrators. This note will review those ideas. "
   ]
  },
  {
   "cell_type": "markdown",
   "metadata": {},
   "source": [
    "#### Lambda Functions \n"
   ]
  },
  {
   "cell_type": "markdown",
   "metadata": {
    "collapsed": false
   },
   "source": [
    "Exercise : For this exercise solve the following problem on Hackerrank and post your solution in the cell below\n",
    "\n",
    "[Validating Email addresses with a Filter](https://www.hackerrank.com/contests/pythonista-practice-session/challenges/validate-list-of-email-address-with-filter)\n"
   ]
  },
  {
   "cell_type": "markdown",
   "metadata": {},
   "source": [
    "Valid email addresses must follow these rules:\n",
    "\n",
    "It must have the username@websitename.extension format type.\n",
    "The username can only contain letters, digits, dashes and underscores.\n",
    "The website name can only have letters and digits.\n",
    "The maximum length of the extension is . "
   ]
  },
  {
   "cell_type": "code",
   "execution_count": 1,
   "metadata": {
    "collapsed": false
   },
   "outputs": [],
   "source": [
    "import string\n",
    "import re\n",
    "\n",
    "\n",
    "name_check = string.ascii_letters + string.digits + \"-\" + \"_\"\n",
    "web_check = string.ascii_letters + string.digits \n",
    "ext_check = 'com'\n",
    "\n",
    "\n"
   ]
  },
  {
   "cell_type": "code",
   "execution_count": 130,
   "metadata": {
    "collapsed": false
   },
   "outputs": [
    {
     "name": "stdout",
     "output_type": "stream",
     "text": [
      "['brian-23@hackerrank.com', 'britts_54@hackerrank.com', 'lara@hackerrank.com']\n"
     ]
    }
   ],
   "source": [
    "#Write code here\n",
    "\n",
    "def valid_email (l):\n",
    "    name_check = string.ascii_letters + string.digits + \"-\" + \"_\"\n",
    "    web_check = string.ascii_letters + string.digits \n",
    "    ext_check = 'com'\n",
    "    lst_emails = []\n",
    "    \n",
    "    \n",
    "    for item in l:\n",
    "        \n",
    "        email = item\n",
    "        \n",
    "        name_str = []\n",
    "        count1,count2 = 0,0\n",
    "        verify = 0\n",
    "        name_str = re.split(r'[.@]+', email)\n",
    "        \n",
    "        \n",
    "        len_name = len(name_str[0])\n",
    "        len_web = len(name_str[1])\n",
    "        len_ext = len(name_str[2])\n",
    "\n",
    "\n",
    "        for itm in name_str[0]:\n",
    "            if itm in name_check :\n",
    "                count1 += 1\n",
    "            if count1 == len_name:\n",
    "                verify+=1\n",
    "\n",
    "\n",
    "        for itm in name_str[1]:\n",
    "            if itm in web_check :\n",
    "                count2+=1\n",
    "            if count2 == len_web:\n",
    "                verify+=1\n",
    "\n",
    "        if len_ext <= len(ext_check):\n",
    "            verify+=1\n",
    "\n",
    "        if verify == 3 and len(name_str) == 3:\n",
    "            lst_emails.append(email)\n",
    "\n",
    "    return  sorted(lst_emails)\n",
    "\n",
    "\n",
    "\n",
    "\n",
    "lst = [ 'lara@hackerrank.com', 'brian-23@hackerrank.com' , 'britts_54@hackerrank.com']\n",
    "\n",
    "\n",
    "\n",
    "print valid_email(lst)\n"
   ]
  },
  {
   "cell_type": "code",
   "execution_count": 118,
   "metadata": {
    "collapsed": false
   },
   "outputs": [
    {
     "name": "stdout",
     "output_type": "stream",
     "text": [
      "None\n"
     ]
    }
   ],
   "source": []
  },
  {
   "cell_type": "markdown",
   "metadata": {},
   "source": [
    "#### Generators\n",
    "\n",
    "Exercise :\n",
    "Write a infinite generator that successively yields the triangle numbers 0, 1, 3, 6, 10, ...\n",
    "\n",
    "[Triangle Numbers](https://en.wikipedia.org/wiki/Triangular_number)"
   ]
  },
  {
   "cell_type": "code",
   "execution_count": 54,
   "metadata": {
    "collapsed": false
   },
   "outputs": [],
   "source": [
    "### Generators\n",
    "\"\"\"\n",
    "Exercise :\n",
    "Write a infinite generator that successively yields the triangle numbers 0, 1, 3, 6, 10, ...\n",
    "\n",
    "Triangle Numbers : https://en.wikipedia.org/wiki/Triangular_number\n",
    "\"\"\"\n",
    "def generate_triangles(n):\n",
    "    \n",
    "    tri_num = (n* (n+1)) / 2\n",
    "    yield tri_num\n",
    "    \n"
   ]
  },
  {
   "cell_type": "code",
   "execution_count": 108,
   "metadata": {
    "collapsed": false
   },
   "outputs": [
    {
     "name": "stdout",
     "output_type": "stream",
     "text": [
      "0\n",
      "1\n",
      "3\n",
      "6\n",
      "10\n",
      "15\n",
      "21\n",
      "28\n"
     ]
    }
   ],
   "source": [
    "\"\"\"\n",
    "Use your generator to write a function triangles_under(n) that prints out all triangle\n",
    "numbers strictly less than the parameter n.\n",
    "\n",
    "\"\"\"\n",
    "def triangles_under(n):\n",
    "    for i in range(n):\n",
    "        item = generate_triangles(i)\n",
    "        a = next(item)\n",
    "        if a <= n :\n",
    "            print a\n",
    "        \n",
    "\n",
    "triangles_under(30)"
   ]
  },
  {
   "cell_type": "markdown",
   "metadata": {},
   "source": [
    "#### Decorators \n",
    "Exercise : Standardize Mobile Numbers using Decorators\n",
    "\n",
    "Make a list of the mobile numbers and pass it to a function that sorts the array \n",
    "in ascending order. Make a decorator that standardizes the mobile numbers and \n",
    "apply it to the function.\n",
    "\n",
    "Input : Take a list of mobile numbers. Sort them in ascending order then print them in \n",
    "the standard format shown below:\n",
    "    \n",
    "    +1 xxx xxx xxxx\n",
    "\n",
    "The given mobile numbers may have +1, 1 or 0 written before the actual digit number. \n",
    "Alternatively, there may not be any prefix at all. \n",
    "\n",
    "Sample Input : \n",
    "    06502505121\n",
    "    +19658764040\n",
    "\n",
    "Sample output :\n",
    "    +1 650 250 5121\n",
    "    +1 965 876 4040\n"
   ]
  },
  {
   "cell_type": "code",
   "execution_count": 105,
   "metadata": {
    "collapsed": false
   },
   "outputs": [
    {
     "data": {
      "text/plain": [
       "<function __main__.fun>"
      ]
     },
     "execution_count": 105,
     "metadata": {},
     "output_type": "execute_result"
    }
   ],
   "source": [
    "#Write code here\n",
    "\n",
    "\n",
    "def wrapper(f):\n",
    "    def fun(l):\n",
    "        # complete the function\n",
    "        \n",
    "        f('+1 {} {}'.format(n[-10:-5], n[-5:]) for n in l)\n",
    "        \n",
    "    return fun\n",
    "\n",
    "@wrapper\n",
    "def sort_phone(l):\n",
    "    print '\\n'.join(sorted(l))    \n",
    "\n"
   ]
  },
  {
   "cell_type": "markdown",
   "metadata": {},
   "source": [
    "### Object Oriented Programming in Python"
   ]
  },
  {
   "cell_type": "markdown",
   "metadata": {},
   "source": [
    "#### Exercise 1: "
   ]
  },
  {
   "cell_type": "code",
   "execution_count": 82,
   "metadata": {
    "collapsed": false
   },
   "outputs": [
    {
     "ename": "NameError",
     "evalue": "name '____________' is not defined",
     "output_type": "error",
     "traceback": [
      "\u001b[0;31m---------------------------------------------------------------------------\u001b[0m",
      "\u001b[0;31mNameError\u001b[0m                                 Traceback (most recent call last)",
      "\u001b[0;32m<ipython-input-82-be980863b943>\u001b[0m in \u001b[0;36m<module>\u001b[0;34m()\u001b[0m\n\u001b[1;32m     14\u001b[0m \u001b[0;34m\u001b[0m\u001b[0m\n\u001b[1;32m     15\u001b[0m \u001b[0ma\u001b[0m \u001b[0;34m=\u001b[0m \u001b[0mAccount\u001b[0m\u001b[0;34m(\u001b[0m\u001b[0;34m\"Billy\"\u001b[0m\u001b[0;34m)\u001b[0m \u001b[0;31m# It will assing the account holder to Billy\u001b[0m\u001b[0;34m\u001b[0m\u001b[0m\n\u001b[0;32m---> 16\u001b[0;31m \u001b[0m____________\u001b[0m\u001b[0;34m\u001b[0m\u001b[0m\n\u001b[0m\u001b[1;32m     17\u001b[0m \u001b[0;34m\u001b[0m\u001b[0m\n\u001b[1;32m     18\u001b[0m \u001b[0ma\u001b[0m\u001b[0;34m.\u001b[0m\u001b[0maccount_holder\u001b[0m \u001b[0;31m# it will give error, it should be a.holder\u001b[0m\u001b[0;34m\u001b[0m\u001b[0m\n",
      "\u001b[0;31mNameError\u001b[0m: name '____________' is not defined"
     ]
    }
   ],
   "source": [
    "# Before compiling the following code snippets, write down what\n",
    "# each individual call will return in an inline comment. \n",
    "# If you think it returns an error, why would it be the case. \n",
    " \n",
    "\n",
    "class Account(object):\n",
    "    interest = 0.02\n",
    "    def __init__(self, account_holder):\n",
    "        self.balance = 0\n",
    "        self.holder = account_holder\n",
    "    def deposit(self, amount):\n",
    "        self.balance = self.balance + amount\n",
    "        print(\"Yes!\")\n",
    "\n",
    "a = Account(\"Billy\") # It will assing the account holder to Billy\n",
    "____________\n",
    "\n",
    "a.account_holder # it will give error, it should be a.holder\n",
    "\n",
    "____________\n",
    "\n",
    "Account.holder #  it will give error, it should be a.holder, class name cannot be used\n",
    "______\n",
    "\n",
    "Account.interest # it will print 0.02\n",
    "______\n",
    "\n",
    "a.interest # it will print 0.02\n",
    "______\n",
    "\n",
    "Account.interest = 0.03 \n",
    "a.interest  # it will print 0.03\n",
    "______\n",
    "\n",
    "a.deposit(1000) # it will print Yes\n",
    "______\n",
    "\n",
    "a.balance  # It will print 1000\n",
    "______"
   ]
  },
  {
   "cell_type": "markdown",
   "metadata": {},
   "source": [
    "#### Exercise 2: Timed Key Value Store \n",
    "\n",
    "At a high-level, we'll be building a key-value store (think Dictionary or HashMap) that has a get method that takes an optional second parameter as a time object in Python to return the most recent value before that period in time. If no key-value pair was added to the map before that period in time, return None.\n",
    "\n",
    "For consistency’s sake, let’s call this class TimedKVStore and put it into a file called kv_store.py\n",
    "\n",
    "You’ll need some sort of time object to track when key-value pairs are getting added to this map. Consider using the time module from Python Docs\n",
    "\n",
    "To give you an idea of how this class works, this is what should happen after you implement TimedKVStore.\n",
    "\n"
   ]
  },
  {
   "cell_type": "code",
   "execution_count": 3,
   "metadata": {
    "collapsed": true
   },
   "outputs": [],
   "source": [
    "class TimedKVStore(object):\n",
    "    \n",
    "    import time\n",
    "    \n",
    "    def __init__(self):\n",
    "        self.tup_list = []\n",
    "\n",
    "    def put(self, key, val):\n",
    "        tmp_tup = (key, val, time.time())\n",
    "        self.tup_list.append(tmp_tup)\n",
    "        \n",
    "    def get(self, key, time_ceil=0):\n",
    "        '''\n",
    "        'time_ciel' from Python time.time() (must: import time) - in decimal seconds\n",
    "        from the beginning of AD 1970\n",
    "        '''\n",
    "        # Always make new list with just specified key, tup[0]\n",
    "        key_list = [tup for tup in self.tup_list if tup[0] == key]\n",
    "        \n",
    "        # if time_ciel is specified, filter list by time_ciel and sort key_list by time\n",
    "        if time_ceil > 0:\n",
    "            latest_match_tup = []\n",
    "            latest_match_tup = sorted(filter(lambda x: x[2] <= time_ceil, key_list), key=lambda x: x[2])\n",
    "        # if nothing before the time_ciel, return (and print) None\n",
    "            if not latest_match_tup:\n",
    "                print None\n",
    "                return None\n",
    "        # else return the most recent on the sorted/filtered list\n",
    "            else:\n",
    "                return latest_match_tup[-1][1]\n",
    "        # if no time_cieling was entered, defaults to 0 and directs to this else\n",
    "        else:\n",
    "            most_current_tup = sorted(key_list, key=lambda x: x[2])\n",
    "            if not most_current_tup:\n",
    "                print None\n",
    "                return None\n",
    "            else:\n",
    "                return most_current_tup[-1][1]"
   ]
  },
  {
   "cell_type": "code",
   "execution_count": 5,
   "metadata": {
    "collapsed": false
   },
   "outputs": [
    {
     "name": "stdout",
     "output_type": "stream",
     "text": [
      "None\n"
     ]
    }
   ],
   "source": [
    "d = TimedKVStore()\n",
    "import time\n",
    "t0 = time.time()\n",
    "d.put(\"1\", 1)\n",
    "\n",
    "t1 = time.time()\n",
    "d.put(\"1\", 1.1)\n",
    "\n",
    "d.get(\"1\")\n",
    "#Output : 1.1\n",
    "        \n",
    "d.get(\"1\", t1)\n",
    "#Output : 1\n",
    "    \n",
    "d.get(\"1\", t0)\n",
    "#Output : None"
   ]
  },
  {
   "cell_type": "markdown",
   "metadata": {
    "collapsed": true
   },
   "source": [
    "#### Exercise 3 : \n",
    "For this problem you will be creating a class and apply OOP priciples to it. The problem is divided into two parts.\n",
    "\n",
    "#### 1. PART 1: \n",
    "* Define a Rocket() class.\n",
    "* Define the __init__() method. Let your __init__() method accept x and y values for the initial position of the rocket. Make sure the default behavior is to position the rocket at (0,0).\n",
    "* Define the move_rocket() method. The method should accept an amount to move (x,y)\n",
    "* Create a Rocket object. Move the rocket around, printing its position after each move.\n",
    "* Create a small fleet of rockets. Move several of them around, and print their final positions to prove that each rocket can move independently of the other rockets.\n",
    "* Define the get_distance() method. The method should accept a Rocket object, and calculate the distance between the current rocket and the rocket that is passed into the method.\n",
    "* Use the get_distance() method to print the distances between several of the rockets in your fleet.\n",
    "\n",
    "#### 2. PART 2 : Applying Inheritance\n",
    "* Define a class SpaceShuttle() which extends class Rocket()\n",
    "* Add more attributes that are particular to space shuttles such as maximum number of flights, capability of supporting spacewalks, and capability of docking with the ISS.\n",
    "* Add a method to the class, that relates to shuttle behavior. This method could simply print a statement, such as \"Docking with the ISS,\" for a dock_ISS() method.\n",
    "* Create a Shuttle object with these attributes, and then call your new method.\n",
    "\n",
    "Hints/Notes :\n",
    "* You can use the Euclidean distance to calculate the distances between different Rocket objects\n",
    "\n",
    "    - Euclidean distance((x, y), (a, b)) = √(x - a)² + (y - b)²\n",
    "\n"
   ]
  },
  {
   "cell_type": "code",
   "execution_count": 97,
   "metadata": {
    "collapsed": false
   },
   "outputs": [
    {
     "name": "stdout",
     "output_type": "stream",
     "text": [
      " The rocket moved to  15 15\n",
      "The distance between rockets are :  11.313708499\n"
     ]
    }
   ],
   "source": [
    "#Write code here \n",
    "from scipy.spatial import distance\n",
    "import numpy as np\n",
    "\n",
    "class  Rocket(object):\n",
    "    \n",
    "    def __init__(self,x=0,y=0):\n",
    "        \n",
    "        self.x = x\n",
    "        self.y = y\n",
    "        \n",
    "    def move_rocket(self,move):\n",
    "        \n",
    "        self.x = self.x + move[0]\n",
    "        self.y = self.y + move[1]\n",
    "        \n",
    "        print \"The rocket moved to \",self.x,self.y\n",
    "    \n",
    "    def get_distance(self,a):\n",
    "        \n",
    "        print \"The distance between rockets are : \",np.sqrt(((a.x-self.x))**2 + ((a.y-self.y))**2 )\n",
    "    \n",
    "r1 = Rocket(5,5)\n",
    "\n",
    "r1.move_rocket((10,10))\n",
    "\n",
    "r2 = Rocket(7,7)\n",
    "\n",
    "r1.get_distance(r2)\n",
    "\n",
    "\n",
    "\n"
   ]
  },
  {
   "cell_type": "code",
   "execution_count": null,
   "metadata": {
    "collapsed": true
   },
   "outputs": [],
   "source": [
    "class SpaceShuttle(Rocket):\n",
    "    \n",
    "    max_flight = 3\n",
    "    space_walk = True\n",
    "    docking = True\n",
    "    \n",
    "    def dock_ISS(self):\n",
    "        \n",
    "        if self.docking:\n",
    "            print \"We are docking my friend\"\n",
    "        else:\n",
    "            print \"Not yet Docking\"\n",
    "            \n"
   ]
  },
  {
   "cell_type": "markdown",
   "metadata": {},
   "source": [
    "### Linear Algebra Review\n",
    "\n",
    "Exercise: Read through and review [Stanford's Linear Algebra Review](http://cs229.stanford.edu/section/cs229-linalg.pdf) \n",
    "\n",
    "\n",
    "Exercise : Go through videos : \n",
    "[Chapter 7 ,Chapter 9 , Chapter 10 , Chapter 11](https://www.youtube.com/playlist?list=PLZHQObOWTQDPD3MizzM2xVFitgF8hE_ab) and try to derive the algorithmic complexity of each vector and matrix operation. \n"
   ]
  },
  {
   "cell_type": "markdown",
   "metadata": {
    "collapsed": true
   },
   "source": [
    "Matrix Mult is O(n^2)\n",
    "Matrix Dot Product is O(n^2)\n",
    "Matrix Addition is O(n)"
   ]
  }
 ],
 "metadata": {
  "anaconda-cloud": {},
  "kernelspec": {
   "display_name": "Python [conda root]",
   "language": "python",
   "name": "conda-root-py"
  },
  "language_info": {
   "codemirror_mode": {
    "name": "ipython",
    "version": 2
   },
   "file_extension": ".py",
   "mimetype": "text/x-python",
   "name": "python",
   "nbconvert_exporter": "python",
   "pygments_lexer": "ipython2",
   "version": "2.7.12"
  }
 },
 "nbformat": 4,
 "nbformat_minor": 1
}
